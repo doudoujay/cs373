{
 "cells": [
  {
   "cell_type": "markdown",
   "metadata": {},
   "source": [
    "# CS373 HW2"
   ]
  },
  {
   "cell_type": "markdown",
   "metadata": {},
   "source": [
    "ma438<br>\n",
    "Ji Ma<br>\n",
    "0028947432"
   ]
  },
  {
   "cell_type": "code",
   "execution_count": null,
   "metadata": {},
   "outputs": [],
   "source": [
    "%matplotlib inline\n",
    "from clustering import *\n",
    "import numpy as np\n",
    "import pandas as pd\n",
    "import matplotlib.pyplot as plt\n",
    "import matplotlib.cm as cm"
   ]
  },
  {
   "cell_type": "markdown",
   "metadata": {
    "collapsed": true
   },
   "source": [
    "## 4 Assignment"
   ]
  },
  {
   "cell_type": "markdown",
   "metadata": {},
   "source": [
    "### 1. Create a python script that can apply K-means and Agglomerative Clustering algo- rithms in python as specified in the Code Specification section. This is the only piece of code that you need to submit (CODE). We will run several tests on your code to assess it’s correctness. (30 pts)\n",
    "\n",
    "### 2. K-means analysis You do not need to submit code for this part. Just include the required plots and explanations in the PDF (50 pts).\n",
    "\n",
    "(a) Cluster the full Yelp data with values of K = [2, 4, 8, 16, 32, 64] using a random set of examples as the initial centroids. Then, plot the within-cluster sum of squares as a function of K. Which value of k would you choose? Why? (Plot + answer in the PDF)"
   ]
  },
  {
   "cell_type": "code",
   "execution_count": null,
   "metadata": {},
   "outputs": [
    {
     "name": "stdout",
     "output_type": "stream",
     "text": [
      "WC-SSE=2036552762.63\n",
      "Centroid1=[35.147768,-113.220377,481.197115,1990.660256]\n",
      "Centroid2=[37.591105,-96.887092,37.880111,118.879780]\n",
      "WC-SSE=754859624.826\n",
      "Centroid1=[35.079138,-113.658085,472.111406,2110.612732]\n",
      "Centroid2=[37.839522,-95.589748,26.446813,72.480362]\n",
      "Centroid3=[35.107712,-110.130070,167.429046,640.027801]\n",
      "Centroid4=[35.543215,-114.483728,1902.928571,6613.000000]\n",
      "WC-SSE=364738786.417\n",
      "Centroid1=[35.100979,-112.247421,264.496885,1020.283489]\n",
      "Centroid2=[37.240094,-99.233562,17.485859,39.707578]\n",
      "Centroid3=[55.405099,-2.285467,18.808642,23.281305]\n",
      "Centroid4=[35.089477,-113.700641,417.338182,1892.945455]\n",
      "Centroid5=[35.421037,-106.622841,67.647545,228.537402]\n",
      "Centroid6=[35.768380,-114.770519,2255.437500,7881.875000]\n",
      "Centroid7=[35.097746,-109.529877,141.189890,540.875567]\n",
      "Centroid8=[34.972508,-113.780798,809.776471,3454.423529]\n",
      "WC-SSE=181817818.865\n",
      "Centroid1=[41.522644,-79.296175,12.194821,19.284286]\n",
      "Centroid2=[35.686836,-105.006198,53.724406,174.076684]\n",
      "Centroid3=[36.072407,-103.420931,32.983827,87.469704]\n",
      "Centroid4=[55.399239,-2.275800,18.498217,22.012478]\n",
      "Centroid5=[34.441960,-113.152904,11.515728,24.089724]\n",
      "Centroid6=[34.902297,-113.071217,528.971154,2471.067308]\n",
      "Centroid7=[35.315408,-114.203294,829.565217,3471.282609]\n",
      "Centroid8=[35.352670,-114.252676,1463.904762,5732.190476]\n",
      "Centroid9=[35.191542,-108.367964,117.422805,416.052472]\n",
      "Centroid10=[34.956234,-110.456772,131.680000,600.921481]\n",
      "Centroid11=[35.182239,-107.827287,79.762445,284.178954]\n",
      "Centroid12=[35.188764,-112.517620,333.882353,1217.278431]\n",
      "Centroid13=[34.932388,-111.786843,162.309463,890.982097]\n",
      "Centroid14=[35.067753,-113.914962,378.144330,1727.835052]\n",
      "Centroid15=[36.115133,-115.176961,3326.166667,10136.166667]\n",
      "Centroid16=[35.559357,-111.696752,377.091398,711.193548]\n"
     ]
    }
   ],
   "source": [
    "sse = []\n",
    "for k in [2, 4, 8, 16, 32, 64]:\n",
    "    main('yelp.csv', k,'km')\n",
    "    sse.append(globalSse)"
   ]
  },
  {
   "cell_type": "code",
   "execution_count": 8,
   "metadata": {},
   "outputs": [
    {
     "data": {
      "image/png": "[encoded data removed]",
      "text/plain": [
       "<matplotlib.figure.Figure at 0x10ca31790>"
      ]
     },
     "metadata": {},
     "output_type": "display_data"
    }
   ],
   "source": [
    "plt.plot([2, 4, 8, 16, 32, 64],[2036552762.63,754859624.826,364738786.417,181817818.865,130087657.174,84653499.3647])\n",
    "plt.show()"
   ]
  },
  {
   "cell_type": "markdown",
   "metadata": {},
   "source": [
    "(b) For K = 4 build a scatter 2D plot using the samples (one color per cluster) in two ways: (1) latitude vs. longitude and (2) reviewCount, checkins. What are the dimensions that are driving (most taken into account by) the clustering model? Why?. (2 Plots + answer in the PDF)"
   ]
  },
  {
   "cell_type": "code",
   "execution_count": null,
   "metadata": {
    "collapsed": true
   },
   "outputs": [],
   "source": [
    "k = 4\n",
    "colors = cm.rainbow(np.linspace(0, 1, k)\n",
    "fig, ax = plt.subplots()\n",
    "for i in range(k):\n",
    "        points = np.array([X[j] for j in range(len(X)) if clusters[j] == i])\n",
    "        ax.scatter(points[:, 0], points[:, 1], s=7, c=colors[i])\n",
    "ax.scatter(C[:, 0], C[:, 1], marker='*', s=200, c='#050505')"
   ]
  },
  {
   "cell_type": "markdown",
   "metadata": {},
   "source": [
    "(c) Do a log transform of reviewCount, checkins, then repeat the above analysis (a) and (b). Discuss any differences in the results. (1 Plot (a) + 2 Plots (b) + answer in the PDF)"
   ]
  },
  {
   "cell_type": "markdown",
   "metadata": {},
   "source": [
    "(d) Repeat the analysis (a) and (b) but first use the function sklearn.preprocessing.scale() command in the original dataset (not the one from (c)) to transform the data\n",
    "so that each attribute has mean = 0 and stdev = 1. Discuss the impact on the\n",
    "empirical results. (1 Plot (a) + 2 Plots (b) + answer in the PDF)"
   ]
  },
  {
   "cell_type": "markdown",
   "metadata": {},
   "source": [
    "### 3. K-means vs. Agglomerative clustering. You do not need to submit code for this part. Just include the required plots and explanations in the PDF (20 pts).\n",
    "\n",
    "(a) Run K-means (using a random set of examples as the initial centroids) and Ag- glomerative Clustering on the dummy.csv dataset with k = 3. Make a scatter plot of latitude vs. longitude after each run where each sample is colored according to its cluster color. Subjectively (looking at the plot), which algorithm performs better? Explain. (2 Plots + answer in the PDF)\n",
    "\n",
    "(b) Does K-means always yield the same result if it is applied over and over? What about Agglomerative Clustering?\n",
    "\n",
    "(c) If K-means and Agglomerative clustering are applied on the Y elp dataset, which one is going to take more time? Why? (answer in the PDF)"
   ]
  },
  {
   "cell_type": "code",
   "execution_count": null,
   "metadata": {
    "collapsed": true
   },
   "outputs": [],
   "source": []
  }
 ],
 "metadata": {
  "kernelspec": {
   "display_name": "Python 2",
   "language": "python",
   "name": "python2"
  },
  "language_info": {
   "codemirror_mode": {
    "name": "ipython",
    "version": 2
   },
   "file_extension": ".py",
   "mimetype": "text/x-python",
   "name": "python",
   "nbconvert_exporter": "python",
   "pygments_lexer": "ipython2",
   "version": "2.7.13"
  }
 },
 "nbformat": 4,
 "nbformat_minor": 2
}
