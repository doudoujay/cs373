{
 "cells": [
  {
   "cell_type": "markdown",
   "metadata": {},
   "source": [
    "# CS373 HW2"
   ]
  },
  {
   "cell_type": "markdown",
   "metadata": {},
   "source": [
    "ma438<br>\n",
    "Ji Ma<br>\n",
    "0028947432"
   ]
  },
  {
   "cell_type": "code",
   "execution_count": 1,
   "metadata": {
    "collapsed": true
   },
   "outputs": [],
   "source": [
    "%matplotlib inline\n",
    "import clustering\n",
    "import numpy as np\n",
    "import pandas as pd\n",
    "import matplotlib.pyplot as plt"
   ]
  },
  {
   "cell_type": "markdown",
   "metadata": {
    "collapsed": true
   },
   "source": [
    "## 4 Assignment"
   ]
  },
  {
   "cell_type": "markdown",
   "metadata": {},
   "source": [
    "### 1. Create a python script that can apply K-means and Agglomerative Clustering algo- rithms in python as specified in the Code Specification section. This is the only piece of code that you need to submit (CODE). We will run several tests on your code to assess it’s correctness. (30 pts)\n",
    "\n",
    "### 2. K-means analysis You do not need to submit code for this part. Just include the required plots and explanations in the PDF (50 pts).\n",
    "\n",
    "(a) Cluster the full Yelp data with values of K = [2, 4, 8, 16, 32, 64] using a random set of examples as the initial centroids. Then, plot the within-cluster sum of squares as a function of K. Which value of k would you choose? Why? (Plot + answer in the PDF)"
   ]
  },
  {
   "cell_type": "code",
   "execution_count": 3,
   "metadata": {
    "collapsed": false
   },
   "outputs": [
    {
     "name": "stdout",
     "output_type": "stream",
     "text": [
      "WC-SSE=2036552762.63\n",
      "Centroid1=[35.147768,-113.220377,481.197115,1990.660256]\n",
      "Centroid2=[37.591105,-96.887092,37.880111,118.879780]\n",
      "WC-SSE=754859624.826\n",
      "Centroid1=[35.079138,-113.658085,472.111406,2110.612732]\n",
      "Centroid2=[37.839522,-95.589748,26.446813,72.480362]\n",
      "Centroid3=[35.107712,-110.130070,167.429046,640.027801]\n",
      "Centroid4=[35.543215,-114.483728,1902.928571,6613.000000]\n",
      "WC-SSE=364738786.417\n",
      "Centroid1=[37.240094,-99.233562,17.485859,39.707578]\n",
      "Centroid2=[55.405099,-2.285467,18.808642,23.281305]\n",
      "Centroid3=[35.097746,-109.529877,141.189890,540.875567]\n",
      "Centroid4=[35.100979,-112.247421,264.496885,1020.283489]\n",
      "Centroid5=[35.089477,-113.700641,417.338182,1892.945455]\n",
      "Centroid6=[35.421037,-106.622841,67.647545,228.537402]\n",
      "Centroid7=[35.768380,-114.770519,2255.437500,7881.875000]\n",
      "Centroid8=[34.972508,-113.780798,809.776471,3454.423529]\n",
      "WC-SSE=181817818.865\n",
      "Centroid1=[35.188764,-112.517620,333.882353,1217.278431]\n",
      "Centroid2=[35.067753,-113.914962,378.144330,1727.835052]\n",
      "Centroid3=[35.352670,-114.252676,1463.904762,5732.190476]\n",
      "Centroid4=[35.559357,-111.696752,377.091398,711.193548]\n",
      "Centroid5=[35.686836,-105.006198,53.724406,174.076684]\n",
      "Centroid6=[34.441960,-113.152904,11.515728,24.089724]\n",
      "Centroid7=[41.522644,-79.296175,12.194821,19.284286]\n",
      "Centroid8=[34.902297,-113.071217,528.971154,2471.067308]\n",
      "Centroid9=[35.191542,-108.367964,117.422805,416.052472]\n",
      "Centroid10=[35.182239,-107.827287,79.762445,284.178954]\n",
      "Centroid11=[36.072407,-103.420931,32.983827,87.469704]\n",
      "Centroid12=[34.956234,-110.456772,131.680000,600.921481]\n",
      "Centroid13=[35.315408,-114.203294,829.565217,3471.282609]\n",
      "Centroid14=[36.115133,-115.176961,3326.166667,10136.166667]\n",
      "Centroid15=[55.399239,-2.275800,18.498217,22.012478]\n",
      "Centroid16=[34.932388,-111.786843,162.309463,890.982097]\n",
      "WC-SSE=130087657.174\n",
      "Centroid1=[34.654662,-113.315233,23.900287,118.531564]\n",
      "Centroid2=[34.792549,-110.044386,90.079327,478.699519]\n",
      "Centroid3=[35.802584,-111.604030,653.947368,1215.719298]\n",
      "Centroid4=[55.387659,-2.256546,17.730664,20.137398]\n",
      "Centroid5=[34.598402,-113.328298,502.372881,2904.559322]\n",
      "Centroid6=[36.115133,-115.176961,3326.166667,10136.166667]\n",
      "Centroid7=[35.923877,-105.737951,206.569038,394.958159]\n",
      "Centroid8=[35.571162,-114.511385,937.793103,3875.034483]\n",
      "Centroid9=[35.398738,-106.775443,134.315166,306.175355]\n",
      "Centroid10=[35.699276,-111.593401,384.289256,674.363636]\n",
      "Centroid11=[34.418964,-113.125728,9.976411,17.457850]\n",
      "Centroid12=[35.000816,-108.488036,46.378830,276.417827]\n",
      "Centroid13=[36.240099,-104.780064,61.701373,81.299771]\n",
      "Centroid14=[35.100230,-113.572817,388.344828,2125.632184]\n",
      "Centroid15=[35.393843,-109.096289,208.696356,555.801619]\n",
      "Centroid16=[35.056690,-113.904240,314.295775,1642.471831]\n",
      "Centroid17=[39.483754,-74.022149,38.325103,127.358025]\n",
      "Centroid18=[35.507329,-113.408526,1053.375000,2194.656250]\n",
      "Centroid19=[35.483339,-114.413885,1578.176471,5958.000000]\n",
      "Centroid20=[39.316517,-80.673855,26.422863,71.811321]\n",
      "Centroid21=[40.646810,-80.562666,20.157925,35.575793]\n",
      "Centroid22=[34.926817,-112.291983,135.466667,991.175758]\n",
      "Centroid23=[36.006772,-104.600509,82.693706,143.159441]\n",
      "Centroid24=[35.106941,-108.330383,36.088965,191.734816]\n",
      "Centroid25=[35.033484,-112.008826,339.414815,932.362963]\n",
      "Centroid26=[41.986356,-78.738872,8.375299,10.670748]\n",
      "Centroid27=[34.892263,-111.041550,147.725086,774.536082]\n",
      "Centroid28=[34.804946,-110.907302,90.262774,612.854015]\n",
      "Centroid29=[34.914937,-113.043612,238.926174,1264.140940]\n",
      "Centroid30=[34.552903,-113.281694,17.825027,57.954529]\n",
      "Centroid31=[34.964802,-109.745821,60.940663,371.146597]\n",
      "Centroid32=[36.011092,-104.332607,111.027444,218.602058]\n",
      "WC-SSE=84653499.3647\n",
      "Centroid1=[34.641353,-113.388010,15.157388,79.201285]\n",
      "Centroid2=[34.407936,-113.115533,8.016252,10.248425]\n",
      "Centroid3=[39.194679,-80.701631,13.742138,46.948113]\n",
      "Centroid4=[55.875814,-3.071632,19.563158,43.615789]\n",
      "Centroid5=[34.899657,-113.712006,165.213115,1603.622951]\n",
      "Centroid6=[35.451163,-114.370557,1423.375000,5033.250000]\n",
      "Centroid7=[35.125452,-109.833215,171.425926,589.879630]\n",
      "Centroid8=[34.914960,-111.599028,263.283186,848.637168]\n",
      "Centroid9=[35.240261,-114.107156,645.125000,3699.208333]\n",
      "Centroid10=[35.443010,-110.760314,440.517241,1176.034483]\n",
      "Centroid11=[34.219756,-112.877876,33.486400,32.715200]\n",
      "Centroid12=[34.596470,-113.336117,13.938013,51.840179]\n",
      "Centroid13=[34.761535,-110.281578,48.515068,351.920548]\n",
      "Centroid14=[34.858636,-110.670993,172.536765,720.147059]\n",
      "Centroid15=[34.888913,-110.739531,22.284337,187.985542]\n",
      "Centroid16=[34.994172,-113.206439,431.132075,2309.301887]\n",
      "Centroid17=[39.305657,-82.695467,7.110480,8.805556]\n",
      "Centroid18=[35.046263,-108.204692,95.261658,235.082902]\n",
      "Centroid19=[34.985453,-109.108528,66.430070,427.517483]\n",
      "Centroid20=[35.312445,-111.442906,318.097826,676.402174]\n",
      "Centroid21=[38.138350,-81.023248,28.462783,107.207120]\n",
      "Centroid22=[36.112237,-115.173620,3859.000000,11079.500000]\n",
      "Centroid23=[37.314400,-80.996211,35.308756,149.944700]\n",
      "Centroid24=[34.945777,-109.141445,47.193258,286.588764]\n",
      "Centroid25=[35.166770,-108.563746,135.188525,373.315574]\n",
      "Centroid26=[34.942675,-113.161800,193.991228,1245.500000]\n",
      "Centroid27=[55.499892,-2.445454,10.917241,10.806897]\n",
      "Centroid28=[45.510711,-73.605731,6.932336,8.542023]\n",
      "Centroid29=[34.480166,-113.191008,65.178971,182.675615]\n",
      "Centroid30=[35.425828,-114.344244,1221.894737,2882.736842]\n",
      "Centroid31=[39.391012,-77.491673,64.923567,191.305732]\n",
      "Centroid32=[41.098553,-81.566980,56.678808,75.228477]\n",
      "Centroid33=[34.479128,-113.195339,9.400202,28.879232]\n",
      "Centroid34=[42.044804,-80.475210,21.685127,18.213608]\n",
      "Centroid35=[41.695779,-81.007840,38.478723,40.689362]\n",
      "Centroid36=[37.185952,-100.264343,113.873171,167.643902]\n",
      "Centroid37=[36.070277,-109.320558,312.440678,501.576271]\n",
      "Centroid38=[34.997668,-112.010674,102.961240,817.186047]\n",
      "Centroid39=[35.164402,-114.033397,346.152778,1903.972222]\n",
      "Centroid40=[34.585403,-113.329024,21.886301,110.864384]\n",
      "Centroid41=[40.323650,-79.822901,10.264428,27.182581]\n",
      "Centroid42=[34.900642,-110.573988,68.198198,526.436937]\n",
      "Centroid43=[40.283343,-81.430878,73.778894,118.804020]\n",
      "Centroid44=[34.932695,-108.837617,32.933498,233.241379]\n",
      "Centroid45=[34.924676,-113.736565,425.015625,1515.484375]\n",
      "Centroid46=[36.633138,-102.636037,174.466667,233.866667]\n",
      "Centroid47=[36.968918,-103.313159,250.021277,350.627660]\n",
      "Centroid48=[55.951843,-3.194456,46.588235,107.279412]\n",
      "Centroid49=[39.057983,-80.824587,21.678497,71.741127]\n",
      "Centroid50=[35.220010,-108.090823,165.312757,475.765432]\n",
      "Centroid51=[54.158857,-0.198303,43.161290,23.374194]\n",
      "Centroid52=[34.535033,-110.956517,59.352459,650.762295]\n",
      "Centroid53=[34.779207,-113.546814,292.402299,1012.367816]\n",
      "Centroid54=[34.585318,-113.308605,428.558140,2873.069767]\n",
      "Centroid55=[34.408541,-113.102417,64.330754,118.237911]\n",
      "Centroid56=[35.340449,-106.835715,120.292605,301.678457]\n",
      "Centroid57=[36.560200,-111.751072,761.620690,1174.793103]\n",
      "Centroid58=[35.375952,-113.185812,913.433333,1883.666667]\n",
      "Centroid59=[35.519564,-114.453789,1829.555556,7165.444444]\n",
      "Centroid60=[34.893009,-111.441534,111.424528,982.084906]\n",
      "Centroid61=[36.583465,-110.928720,540.944444,756.083333]\n",
      "Centroid62=[34.342011,-113.014378,47.091354,71.499184]\n",
      "Centroid63=[34.684683,-113.452041,28.234694,147.285714]\n",
      "Centroid64=[37.356931,-100.598603,125.278351,94.247423]\n"
     ]
    }
   ],
   "source": [
    "sse = []\n",
    "for k in [2, 4, 8, 16, 32, 64]:\n",
    "    sse.append(clustering.main('yelp.csv', k,'km'))"
   ]
  },
  {
   "cell_type": "code",
   "execution_count": 8,
   "metadata": {
    "collapsed": false
   },
   "outputs": [
    {
     "data": {
      "image/png": "[encoded data removed]",
      "text/plain": [
       "<matplotlib.figure.Figure at 0x10ca31790>"
      ]
     },
     "metadata": {},
     "output_type": "display_data"
    }
   ],
   "source": [
    "plt.plot([2, 4, 8, 16, 32, 64],[2036552762.63,754859624.826,364738786.417,181817818.865,130087657.174,84653499.3647])\n",
    "plt.show()"
   ]
  },
  {
   "cell_type": "markdown",
   "metadata": {},
   "source": [
    "(b) For K = 4 build a scatter 2D plot using the samples (one color per cluster) in two ways: (1) latitude vs. longitude and (2) reviewCount, checkins. What are the dimensions that are driving (most taken into account by) the clustering model? Why?. (2 Plots + answer in the PDF)\n",
    "\n",
    "(c) Do a log transform of reviewCount, checkins, then repeat the above analysis (a) and (b). Discuss any differences in the results. (1 Plot (a) + 2 Plots (b) + answer in the PDF)\n",
    "\n",
    "(d) Repeattheanalysis(a)and(b)butfirstusethefunctionsklearn.preprocessing.scale() command in the original dataset (not the one from (c)) to transform the data\n",
    "so that each attribute has mean = 0 and stdev = 1. Discuss the impact on the\n",
    "empirical results. (1 Plot (a) + 2 Plots (b) + answer in the PDF)"
   ]
  },
  {
   "cell_type": "markdown",
   "metadata": {},
   "source": [
    "###3. K-means vs. Agglomerative clustering. You do not need to submit code for this part. Just include the required plots and explanations in the PDF (20 pts).\n",
    "\n",
    "(a) Run K-means (using a random set of examples as the initial centroids) and Ag- glomerative Clustering on the dummy.csv dataset with k = 3. Make a scatter plot of latitude vs. longitude after each run where each sample is colored according to its cluster color. Subjectively (looking at the plot), which algorithm performs better? Explain. (2 Plots + answer in the PDF)\n",
    "\n",
    "(b) Does K-means always yield the same result if it is applied over and over? What about Agglomerative Clustering?\n",
    "\n",
    "(c) If K-means and Agglomerative clustering are applied on the Y elp dataset, which one is going to take more time? Why? (answer in the PDF)"
   ]
  },
  {
   "cell_type": "code",
   "execution_count": null,
   "metadata": {
    "collapsed": true
   },
   "outputs": [],
   "source": []
  }
 ],
 "metadata": {
  "kernelspec": {
   "display_name": "Python 2",
   "language": "python",
   "name": "python2"
  },
  "language_info": {
   "codemirror_mode": {
    "name": "ipython",
    "version": 2
   },
   "file_extension": ".py",
   "mimetype": "text/x-python",
   "name": "python",
   "nbconvert_exporter": "python",
   "pygments_lexer": "ipython2",
   "version": "2.7.10"
  }
 },
 "nbformat": 4,
 "nbformat_minor": 2
}
