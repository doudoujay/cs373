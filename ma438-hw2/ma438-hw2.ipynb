{
 "cells": [
  {
   "cell_type": "markdown",
   "metadata": {},
   "source": [
    "# CS373 HW2"
   ]
  },
  {
   "cell_type": "markdown",
   "metadata": {},
   "source": [
    "ma438<br>\n",
    "Ji Ma<br>\n",
    "0028947432"
   ]
  },
  {
   "cell_type": "code",
   "execution_count": null,
   "metadata": {
    "collapsed": true
   },
   "outputs": [],
   "source": [
    "%matplotlib inline\n",
    "import clustering\n",
    "import numpy as np\n",
    "import pandas as pd\n",
    "import matplotlibt"
   ]
  },
  {
   "cell_type": "markdown",
   "metadata": {
    "collapsed": true
   },
   "source": [
    "## 4 Assignment"
   ]
  },
  {
   "cell_type": "markdown",
   "metadata": {},
   "source": [
    "\n",
    "\n",
    "### 1. Create a python script that can apply K-means and Agglomerative Clustering algo- rithms in python as specified in the Code Specification section. This is the only piece of code that you need to submit (CODE). We will run several tests on your code to assess it’s correctness. (30 pts)\n",
    "\n",
    "### 2. K-means analysis You do not need to submit code for this part. Just include the required plots and explanations in the PDF (50 pts).\n",
    "\n",
    "(a) Cluster the full Yelp data with values of K = [2, 4, 8, 16, 32, 64] using a random set of examples as the initial centroids. Then, plot the within-cluster sum of squares as a function of K. Which value of k would you choose? Why? (Plot + answer in the PDF)\n",
    "\n",
    "(b) For K = 4 build a scatter 2D plot using the samples (one color per cluster) in two ways: (1) latitude vs. longitude and (2) reviewCount, checkins. What are the dimensions that are driving (most taken into account by) the clustering model? Why?. (2 Plots + answer in the PDF)\n",
    "\n",
    "(c) Do a log transform of reviewCount, checkins, then repeat the above analysis (a) and (b). Discuss any differences in the results. (1 Plot (a) + 2 Plots (b) + answer in the PDF)\n",
    "\n",
    "(d) Repeattheanalysis(a)and(b)butfirstusethefunctionsklearn.preprocessing.scale() command in the original dataset (not the one from (c)) to transform the data\n",
    "so that each attribute has mean = 0 and stdev = 1. Discuss the impact on the\n",
    "empirical results. (1 Plot (a) + 2 Plots (b) + answer in the PDF)"
   ]
  },
  {
   "cell_type": "markdown",
   "metadata": {},
   "source": [
    "###3. K-means vs. Agglomerative clustering. You do not need to submit code for this part. Just include the required plots and explanations in the PDF (20 pts).\n",
    "\n",
    "(a) Run K-means (using a random set of examples as the initial centroids) and Ag- glomerative Clustering on the dummy.csv dataset with k = 3. Make a scatter plot of latitude vs. longitude after each run where each sample is colored according to its cluster color. Subjectively (looking at the plot), which algorithm performs better? Explain. (2 Plots + answer in the PDF)\n",
    "\n",
    "(b) Does K-means always yield the same result if it is applied over and over? What about Agglomerative Clustering?\n",
    "\n",
    "(c) If K-means and Agglomerative clustering are applied on the Y elp dataset, which one is going to take more time? Why? (answer in the PDF)"
   ]
  },
  {
   "cell_type": "code",
   "execution_count": null,
   "metadata": {
    "collapsed": true
   },
   "outputs": [],
   "source": []
  }
 ],
 "metadata": {
  "kernelspec": {
   "display_name": "Python 2",
   "language": "python",
   "name": "python2"
  },
  "language_info": {
   "codemirror_mode": {
    "name": "ipython",
    "version": 2
   },
   "file_extension": ".py",
   "mimetype": "text/x-python",
   "name": "python",
   "nbconvert_exporter": "python",
   "pygments_lexer": "ipython2",
   "version": "2.7.10"
  }
 },
 "nbformat": 4,
 "nbformat_minor": 2
}
