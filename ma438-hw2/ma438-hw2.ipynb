{
 "cells": [
  {
   "cell_type": "markdown",
   "metadata": {},
   "source": [
    "# CS373 HW2"
   ]
  },
  {
   "cell_type": "markdown",
   "metadata": {},
   "source": [
    "ma438<br>\n",
    "Ji Ma<br>\n",
    "0028947432"
   ]
  },
  {
   "cell_type": "code",
   "execution_count": 1,
   "metadata": {
    "collapsed": true
   },
   "outputs": [],
   "source": [
    "%matplotlib inline\n",
    "import clustering\n",
    "import numpy as np\n",
    "import pandas as pd\n",
    "import matplotlib.pyplot as plt\n",
    "import matplotlib.cm as cm"
   ]
  },
  {
   "cell_type": "markdown",
   "metadata": {
    "collapsed": true
   },
   "source": [
    "## 4 Assignment"
   ]
  },
  {
   "cell_type": "markdown",
   "metadata": {},
   "source": [
    "### 1. Create a python script that can apply K-means and Agglomerative Clustering algo- rithms in python as specified in the Code Specification section. This is the only piece of code that you need to submit (CODE). We will run several tests on your code to assess it’s correctness. (30 pts)\n",
    "\n",
    "### 2. K-means analysis You do not need to submit code for this part. Just include the required plots and explanations in the PDF (50 pts).\n",
    "\n",
    "***(a) Cluster the full Yelp data with values of K = [2, 4, 8, 16, 32, 64] using a random set of examples as the initial centroids. Then, plot the within-cluster sum of squares as a function of K. Which value of k would you choose? Why? (Plot + answer in the PDF)***"
   ]
  },
  {
   "cell_type": "code",
   "execution_count": null,
   "metadata": {},
   "outputs": [
    {
     "name": "stdout",
     "output_type": "stream",
     "text": [
      "WC-SSE=2036552762.63\n",
      "Centroid1=[37.591105,-96.887092,37.880111,118.879780]\n",
      "Centroid2=[35.147768,-113.220377,481.197115,1990.660256]\n",
      "WC-SSE=754859624.826\n",
      "Centroid1=[35.543215,-114.483728,1902.928571,6613.000000]\n",
      "Centroid2=[37.839522,-95.589748,26.446813,72.480362]\n",
      "Centroid3=[35.107712,-110.130070,167.429046,640.027801]\n",
      "Centroid4=[35.079138,-113.658085,472.111406,2110.612732]\n",
      "WC-SSE=294490591.874\n",
      "Centroid1=[35.071651,-112.015318,245.733429,969.923631]\n",
      "Centroid2=[35.400509,-114.307309,1326.807692,5167.653846]\n",
      "Centroid3=[35.090567,-113.572311,401.948718,1745.512821]\n",
      "Centroid4=[35.115966,-109.386904,135.045131,505.992874]\n",
      "Centroid5=[34.972724,-113.792289,631.461538,2905.471154]\n",
      "Centroid6=[35.492538,-106.158651,63.691014,212.825587]\n",
      "Centroid7=[38.442077,-92.879435,16.962470,36.677939]\n",
      "Centroid8=[36.105639,-115.173730,2999.000000,9481.625000]\n",
      "WC-SSE=181817818.865\n",
      "Centroid1=[35.191542,-108.367964,117.422805,416.052472]\n",
      "Centroid2=[35.315408,-114.203294,829.565217,3471.282609]\n",
      "Centroid3=[34.441960,-113.152904,11.515728,24.089724]\n",
      "Centroid4=[35.559357,-111.696752,377.091398,711.193548]\n",
      "Centroid5=[35.067753,-113.914962,378.144330,1727.835052]\n",
      "Centroid6=[55.399239,-2.275800,18.498217,22.012478]\n",
      "Centroid7=[35.182239,-107.827287,79.762445,284.178954]\n",
      "Centroid8=[35.352670,-114.252676,1463.904762,5732.190476]\n",
      "Centroid9=[36.115133,-115.176961,3326.166667,10136.166667]\n",
      "Centroid10=[34.932388,-111.786843,162.309463,890.982097]\n",
      "Centroid11=[36.072407,-103.420931,32.983827,87.469704]\n",
      "Centroid12=[41.522644,-79.296175,12.194821,19.284286]\n",
      "Centroid13=[34.956234,-110.456772,131.680000,600.921481]\n",
      "Centroid14=[34.902297,-113.071217,528.971154,2471.067308]\n",
      "Centroid15=[35.686836,-105.006198,53.724406,174.076684]\n",
      "Centroid16=[35.188764,-112.517620,333.882353,1217.278431]\n"
     ]
    }
   ],
   "source": [
    "sse = []\n",
    "for k in [2, 4, 8, 16, 32, 64]:\n",
    "    clustering.main('yelp.csv', k,'km')\n",
    "    sse.append(globalSse)"
   ]
  },
  {
   "cell_type": "code",
   "execution_count": 8,
   "metadata": {},
   "outputs": [
    {
     "data": {
      "image/png": "[encoded data removed]",
      "text/plain": [
       "<matplotlib.figure.Figure at 0x10ca31790>"
      ]
     },
     "metadata": {},
     "output_type": "display_data"
    }
   ],
   "source": [
    "plt.plot([2, 4, 8, 16, 32, 64],[2036552762.63,754859624.826,364738786.417,181817818.865,130087657.174,84653499.3647])\n",
    "plt.show()"
   ]
  },
  {
   "cell_type": "markdown",
   "metadata": {},
   "source": [
    "***(b) For K = 4 build a scatter 2D plot using the samples (one color per cluster) in two ways: (1) latitude vs. longitude and (2) reviewCount, checkins. What are the dimensions that are driving (most taken into account by) the clustering model? Why?. (2 Plots + answer in the PDF)***"
   ]
  },
  {
   "cell_type": "code",
   "execution_count": 3,
   "metadata": {},
   "outputs": [
    {
     "name": "stdout",
     "output_type": "stream",
     "text": [
      "WC-SSE=754859624.826\n",
      "Centroid1=[37.839522,-95.589748,26.446813,72.480362]\n",
      "Centroid2=[35.543215,-114.483728,1902.928571,6613.000000]\n",
      "Centroid3=[35.079138,-113.658085,472.111406,2110.612732]\n",
      "Centroid4=[35.107712,-110.130070,167.429046,640.027801]\n"
     ]
    }
   ],
   "source": [
    "k = 4\n",
    "clustering.main('yelp.csv', k, 'km')"
   ]
  },
  {
   "cell_type": "code",
   "execution_count": 20,
   "metadata": {},
   "outputs": [
    {
     "data": {
      "text/plain": [
       "<matplotlib.collections.PathCollection at 0x7f2e74935a10>"
      ]
     },
     "execution_count": 20,
     "metadata": {},
     "output_type": "execute_result"
    },
    {
     "data": {
      "image/png": "[encoded data removed]",
      "text/plain": [
       "<matplotlib.figure.Figure at 0x7f2e7498e490>"
      ]
     },
     "metadata": {},
     "output_type": "display_data"
    }
   ],
   "source": [
    "# 1) latitude vs. longitude\n",
    "colors = ['r', 'g', 'b', 'y', 'c', 'm']\n",
    "fig, ax = plt.subplots()\n",
    "for i in range(k):\n",
    "        points = np.take(clustering.X,clustering.globalCs[i].data, axis=0)\n",
    "        ax.scatter(points[:, 0] , points[:, 1], s=1, c=colors[i])\n",
    "        \n",
    "C = np.array([c.center for c in clustering.globalCs])\n",
    "ax.scatter(C[:, 0], C[:, 1], marker='*', s=200, c='#050505')\n"
   ]
  },
  {
   "cell_type": "code",
   "execution_count": 21,
   "metadata": {},
   "outputs": [
    {
     "data": {
      "text/plain": [
       "<matplotlib.collections.PathCollection at 0x7f2e74875f50>"
      ]
     },
     "execution_count": 21,
     "metadata": {},
     "output_type": "execute_result"
    },
    {
     "data": {
      "image/png": "[encoded data removed]",
      "text/plain": [
       "<matplotlib.figure.Figure at 0x7f2e749513d0>"
      ]
     },
     "metadata": {},
     "output_type": "display_data"
    }
   ],
   "source": [
    "# (2) reviewCount, checkins. \n",
    "colors = ['r', 'g', 'b', 'y', 'c', 'm']\n",
    "fig, ax = plt.subplots()\n",
    "for i in range(k):\n",
    "        points = np.take(clustering.X,clustering.globalCs[i].data, axis=0)\n",
    "        ax.scatter(points[:, 2] , points[:, 3], s=1, c=colors[i])\n",
    "        \n",
    "C = np.array([c.center for c in clustering.globalCs])\n",
    "ax.scatter(C[:, 2], C[:, 3], marker='*', s=200, c='#050505')"
   ]
  },
  {
   "cell_type": "markdown",
   "metadata": {},
   "source": [
    "Clearly, the latitude vs. longitude diagram in the first cluster diagram makes no sense, and the second diagram which reflects the reviewCount, checkins makes a lot of sense. The reviewCount, checkins drives the decision of clustering."
   ]
  },
  {
   "cell_type": "markdown",
   "metadata": {},
   "source": [
    "***(c) Do a log transform of reviewCount, checkins, then repeat the above analysis (a) and (b). Discuss any differences in the results. (1 Plot (a) + 2 Plots (b) + answer in the PDF)***"
   ]
  },
  {
   "cell_type": "code",
   "execution_count": 3,
   "metadata": {},
   "outputs": [
    {
     "name": "stdout",
     "output_type": "stream",
     "text": [
      "WC-SSE=6791594.2776\n",
      "Centroid1=[34.547514,-113.278022,3.188372,4.344801]\n",
      "Centroid2=[42.577464,-70.248593,2.704918,3.261494]\n",
      "WC-SSE=6709661.24811\n",
      "Centroid1=[36.080207,-115.140750,4.577675,5.936750]\n",
      "Centroid2=[36.128767,-115.166017,2.318265,3.445602]\n",
      "Centroid3=[33.481247,-111.994897,3.091363,4.196716]\n",
      "Centroid4=[42.577464,-70.248593,2.704918,3.261494]\n",
      "WC-SSE=408155.367382\n",
      "Centroid1=[36.131379,-115.160576,1.976346,2.919767]\n",
      "Centroid2=[36.112626,-115.184977,5.193720,6.493399]\n",
      "Centroid3=[33.480969,-111.991985,3.102026,4.372092]\n",
      "Centroid4=[55.411718,-2.296571,2.616600,2.715144]\n",
      "Centroid5=[36.120352,-115.177173,3.348214,4.786262]\n",
      "Centroid6=[33.485132,-111.978352,4.601215,5.963565]\n",
      "Centroid7=[40.751045,-79.918721,2.717486,3.339244]\n",
      "Centroid8=[33.478623,-112.011332,1.924126,2.648359]\n",
      "WC-SSE=47427.6931814\n",
      "Centroid1=[33.471713,-112.010115,1.700496,2.060039]\n",
      "Centroid2=[35.184493,-80.826863,2.029011,2.885928]\n",
      "Centroid3=[43.461275,-80.509732,2.151332,2.516115]\n",
      "Centroid4=[45.508674,-73.585278,3.329921,3.855117]\n",
      "Centroid5=[33.484520,-112.013449,1.813498,3.793647]\n",
      "Centroid6=[40.436912,-79.976630,2.918187,3.542586]\n",
      "Centroid7=[42.479555,-89.164368,2.996785,3.381889]\n",
      "Centroid8=[55.411718,-2.296571,2.616600,2.715144]\n",
      "Centroid9=[33.484660,-111.983273,4.174466,5.503089]\n",
      "Centroid10=[33.481738,-111.995168,3.276718,4.534550]\n",
      "Centroid11=[33.482326,-111.988363,2.866656,3.127427]\n",
      "Centroid12=[36.114595,-115.182213,4.532698,5.894910]\n",
      "Centroid13=[45.510609,-73.603972,1.855937,2.129193]\n",
      "Centroid14=[36.128765,-115.165796,2.307777,3.428505]\n",
      "Centroid15=[33.482529,-111.973331,5.279797,6.696655]\n",
      "Centroid16=[35.187565,-80.830646,3.740421,4.957684]\n",
      "WC-SSE=38228.2255925\n",
      "Centroid1=[36.119836,-115.177898,4.005882,4.872759]\n",
      "Centroid2=[45.509059,-73.593722,2.700123,3.107545]\n",
      "Centroid3=[33.482135,-111.998310,2.631853,2.360743]\n",
      "Centroid4=[45.512063,-73.612481,1.477137,1.523604]\n",
      "Centroid5=[33.484960,-111.977610,4.782556,5.984239]\n",
      "Centroid6=[33.478782,-111.996229,2.533715,4.798635]\n",
      "Centroid7=[45.508250,-73.575291,4.585591,5.055705]\n",
      "Centroid8=[55.411718,-2.296571,2.616600,2.715144]\n",
      "Centroid9=[36.118503,-115.182189,2.945098,5.250542]\n",
      "Centroid10=[33.477236,-111.981396,2.876573,3.473402]\n",
      "Centroid11=[33.481180,-112.008965,1.785556,3.795908]\n",
      "Centroid12=[35.184493,-80.826863,2.029011,2.885928]\n",
      "Centroid13=[33.485352,-111.975261,5.586185,7.084824]\n",
      "Centroid14=[33.490031,-111.992756,3.482237,5.853027]\n",
      "Centroid15=[36.111878,-115.183763,6.291247,7.488133]\n",
      "Centroid16=[33.482208,-112.024601,1.576119,2.795246]\n",
      "Centroid17=[42.479555,-89.164368,2.996785,3.381889]\n",
      "Centroid18=[36.124352,-115.165311,2.152003,4.198560]\n",
      "Centroid19=[45.510859,-73.597691,1.608125,2.741248]\n",
      "Centroid20=[45.508628,-73.583821,3.433375,3.980719]\n",
      "Centroid21=[36.133777,-115.155165,1.590693,3.200138]\n",
      "Centroid22=[40.796994,-80.040101,2.826885,3.420374]\n",
      "Centroid23=[36.113790,-115.182276,4.248093,5.841895]\n",
      "Centroid24=[45.509064,-73.600663,2.260607,2.075541]\n",
      "Centroid25=[36.124806,-115.166521,2.690550,2.818644]\n",
      "Centroid26=[36.128964,-115.173585,3.206097,4.042720]\n",
      "Centroid27=[33.484019,-111.996237,3.564599,4.287326]\n",
      "Centroid28=[33.470746,-112.015424,1.564854,1.668484]\n",
      "Centroid29=[36.110327,-115.186291,5.217566,6.434035]\n",
      "Centroid30=[35.187565,-80.830646,3.740421,4.957684]\n",
      "Centroid31=[33.481043,-111.981083,4.145072,5.089513]\n",
      "Centroid32=[36.135404,-115.160741,1.622128,1.896527]\n",
      "WC-SSE=25966.3228119\n",
      "Centroid1=[36.117238,-115.186529,2.132076,4.866205]\n",
      "Centroid2=[36.130570,-115.155515,1.673697,4.053520]\n",
      "Centroid3=[35.180287,-80.827011,2.419820,2.628816]\n",
      "Centroid4=[42.393722,-89.133984,3.828071,4.378562]\n",
      "Centroid5=[45.508097,-73.577107,4.291646,4.773133]\n",
      "Centroid6=[36.114620,-115.179478,2.858087,5.611803]\n",
      "Centroid7=[33.474021,-112.020118,1.420192,2.838439]\n",
      "Centroid8=[45.508969,-73.596568,2.474693,2.576283]\n",
      "Centroid9=[36.109690,-115.162884,3.343410,2.030752]\n",
      "Centroid10=[35.185747,-80.828859,1.656674,3.483752]\n",
      "Centroid11=[36.115285,-115.182523,5.969085,7.025705]\n",
      "Centroid12=[35.192928,-80.833094,2.667138,4.952269]\n",
      "Centroid13=[36.130364,-115.174061,2.191165,1.763277]\n",
      "Centroid14=[36.137216,-115.159044,1.367038,1.591310]\n",
      "Centroid15=[33.479352,-111.978592,2.517098,1.745094]\n",
      "Centroid16=[33.481875,-111.970111,5.916430,7.452859]\n",
      "Centroid17=[33.469641,-111.997630,2.347244,3.483768]\n",
      "Centroid18=[36.121927,-115.174987,3.267319,4.903316]\n",
      "Centroid19=[40.436518,-79.974504,3.164803,3.528532]\n",
      "Centroid20=[35.176552,-80.823973,3.603363,4.421309]\n",
      "Centroid21=[35.185778,-80.829711,2.763201,3.778511]\n",
      "Centroid22=[45.510540,-73.601528,1.571965,2.593176]\n",
      "Centroid23=[42.557585,-89.191989,2.241070,2.475823]\n",
      "Centroid24=[35.190515,-80.836611,4.087090,5.272257]\n",
      "Centroid25=[36.135835,-115.172691,3.052514,3.211248]\n",
      "Centroid26=[33.476971,-111.977359,4.216210,5.164464]\n",
      "Centroid27=[33.467778,-112.017210,1.395699,2.077574]\n",
      "Centroid28=[36.129369,-115.150304,1.425837,3.301538]\n",
      "Centroid29=[36.139369,-115.155636,1.407661,2.443896]\n",
      "Centroid30=[36.124461,-115.169930,2.665353,4.233620]\n",
      "Centroid31=[36.126406,-115.160958,2.316133,3.516963]\n",
      "Centroid32=[36.129029,-115.175728,3.415524,4.045347]\n",
      "Centroid33=[33.490881,-112.030021,1.472685,3.587061]\n",
      "Centroid34=[40.446201,-79.960115,4.930878,5.693431]\n",
      "Centroid35=[36.111605,-115.185579,3.855003,5.534398]\n",
      "Centroid36=[33.494906,-111.990187,3.724590,6.056066]\n",
      "Centroid37=[35.199561,-80.835383,4.966217,6.169966]\n",
      "Centroid38=[40.433961,-79.973749,2.379327,4.496276]\n",
      "Centroid39=[36.109172,-115.184262,6.886530,8.045901]\n",
      "Centroid40=[35.186302,-80.820747,1.498693,1.865435]\n",
      "Centroid41=[33.471255,-111.983310,3.294513,3.720343]\n",
      "Centroid42=[45.511911,-73.610963,1.616004,1.520154]\n",
      "Centroid43=[36.131171,-115.162652,2.201553,2.722811]\n",
      "Centroid44=[33.486504,-111.979241,4.743309,5.812100]\n",
      "Centroid45=[55.411718,-2.296571,2.616600,2.715144]\n",
      "Centroid46=[33.485515,-111.977829,5.180967,6.593548]\n",
      "Centroid47=[40.435913,-79.983398,2.111317,2.788402]\n",
      "Centroid48=[33.483825,-111.983146,3.033917,2.878443]\n",
      "Centroid49=[33.485128,-111.987841,1.867485,4.383123]\n",
      "Centroid50=[43.461275,-80.509732,2.151332,2.516115]\n",
      "Centroid51=[40.432791,-79.983307,1.743286,1.678687]\n",
      "Centroid52=[33.477280,-111.980941,2.456386,5.413700]\n",
      "Centroid53=[36.118437,-115.176445,4.046177,4.683275]\n",
      "Centroid54=[33.476665,-111.989003,3.395173,5.034712]\n",
      "Centroid55=[36.120767,-115.177268,4.564586,5.485326]\n",
      "Centroid56=[33.497921,-111.992972,3.879135,4.363287]\n",
      "Centroid57=[36.110836,-115.181916,5.107757,6.128479]\n",
      "Centroid58=[40.438701,-79.973855,3.935524,4.667673]\n",
      "Centroid59=[33.479279,-112.006350,2.835045,4.354121]\n",
      "Centroid60=[33.470674,-112.023981,1.483741,1.367785]\n",
      "Centroid61=[36.106091,-115.194521,5.079452,6.881595]\n",
      "Centroid62=[33.493274,-112.027622,2.144909,2.575321]\n",
      "Centroid63=[45.508869,-73.586931,3.078028,3.653192]\n",
      "Centroid64=[36.110075,-115.193435,3.934349,6.434984]\n"
     ]
    }
   ],
   "source": [
    "#log transformation\n",
    "# Repeat a)\n",
    "sse = []\n",
    "for k in [2, 4, 8, 16, 32, 64]:\n",
    "    clustering.logMain('yelp.csv', k,'km')\n",
    "    sse.append(clustering.globalSse)"
   ]
  },
  {
   "cell_type": "code",
   "execution_count": 4,
   "metadata": {},
   "outputs": [
    {
     "data": {
      "image/png": "[encoded data removed]",
      "text/plain": [
       "<matplotlib.figure.Figure at 0x7f9078660910>"
      ]
     },
     "metadata": {},
     "output_type": "display_data"
    }
   ],
   "source": [
    "plt.plot([2, 4, 8, 16, 32, 64],sse)\n",
    "plt.show()"
   ]
  },
  {
   "cell_type": "markdown",
   "metadata": {},
   "source": [
    "After we did the log transformation, it seems like we could get a very good sse at K=16 instead of K=64. This result is very interesting. However, K=64 is still the optimum solution, with a slightly better performance compare to K=16 in SSE based on the enormous scale like the diagramn above."
   ]
  },
  {
   "cell_type": "code",
   "execution_count": 5,
   "metadata": {},
   "outputs": [
    {
     "name": "stdout",
     "output_type": "stream",
     "text": [
      "WC-SSE=399727.844921\n",
      "Centroid1=[43.386060,-79.061272,2.641590,3.096823]\n",
      "Centroid2=[34.547514,-113.278022,3.188372,4.344801]\n",
      "Centroid3=[35.678783,-81.569263,2.863581,3.805891]\n",
      "Centroid4=[55.411718,-2.296571,2.616600,2.715144]\n"
     ]
    }
   ],
   "source": [
    "# repeat b)\n",
    "k = 4\n",
    "clustering.logMain('yelp.csv', k, 'km')"
   ]
  },
  {
   "cell_type": "code",
   "execution_count": 6,
   "metadata": {},
   "outputs": [
    {
     "data": {
      "text/plain": [
       "<matplotlib.collections.PathCollection at 0x7f907875ab10>"
      ]
     },
     "execution_count": 6,
     "metadata": {},
     "output_type": "execute_result"
    },
    {
     "data": {
      "image/png": "[encoded data removed]",
      "text/plain": [
       "<matplotlib.figure.Figure at 0x7f9078763f10>"
      ]
     },
     "metadata": {},
     "output_type": "display_data"
    }
   ],
   "source": [
    "# 1) latitude vs. longitude\n",
    "colors = ['r', 'g', 'b', 'y', 'c', 'm']\n",
    "fig, ax = plt.subplots()\n",
    "for i in range(k):\n",
    "        points = np.take(clustering.X,clustering.globalCs[i].data, axis=0)\n",
    "        ax.scatter(points[:, 0] , points[:, 1], s=1, c=colors[i])\n",
    "        \n",
    "C = np.array([c.center for c in clustering.globalCs])\n",
    "ax.scatter(C[:, 0], C[:, 1], marker='*', s=200, c='#050505')"
   ]
  },
  {
   "cell_type": "code",
   "execution_count": 7,
   "metadata": {},
   "outputs": [
    {
     "data": {
      "text/plain": [
       "<matplotlib.collections.PathCollection at 0x7f9075ed4d50>"
      ]
     },
     "execution_count": 7,
     "metadata": {},
     "output_type": "execute_result"
    },
    {
     "data": {
      "image/png": "[encoded data removed]",
      "text/plain": [
       "<matplotlib.figure.Figure at 0x7f9078711e10>"
      ]
     },
     "metadata": {},
     "output_type": "display_data"
    }
   ],
   "source": [
    "# (2) reviewCount, checkins. \n",
    "colors = ['r', 'g', 'b', 'y', 'c', 'm']\n",
    "fig, ax = plt.subplots()\n",
    "for i in range(k):\n",
    "        points = np.take(clustering.X,clustering.globalCs[i].data, axis=0)\n",
    "        ax.scatter(points[:, 2] , points[:, 3], s=1, c=colors[i])\n",
    "        \n",
    "C = np.array([c.center for c in clustering.globalCs])\n",
    "ax.scatter(C[:, 2], C[:, 3], marker='*', s=200, c='#050505')"
   ]
  },
  {
   "cell_type": "markdown",
   "metadata": {},
   "source": [
    "Now, after the log transformation for reviewCount, checkins, the diagram for reviewCount, checkins is messy as hell. Although the clustering for latitude vs. longitude is kinda sparse, but it is definately drives the clustering decision. So, I would assume that log function would ease certern effect on cluster for applied attributes."
   ]
  },
  {
   "cell_type": "markdown",
   "metadata": {},
   "source": [
    "***(d) Repeat the analysis (a) and (b) but first use the function sklearn.preprocessing.scale() command in the original dataset (not the one from (c)) to transform the data\n",
    "so that each attribute has mean = 0 and stdev = 1. Discuss the impact on the\n",
    "empirical results. (1 Plot (a) + 2 Plots (b) + answer in the PDF)***"
   ]
  },
  {
   "cell_type": "code",
   "execution_count": 4,
   "metadata": {
    "scrolled": true
   },
   "outputs": [
    {
     "name": "stdout",
     "output_type": "stream",
     "text": [
      "WC-SSE=66848.6679216\n",
      "Centroid1=[-0.517416,-0.434531,0.079888,0.114671]\n",
      "Centroid2=[1.419322,1.191962,-0.219140,-0.314555]\n",
      "WC-SSE=34780.7192406\n",
      "Centroid1=[-0.293772,-0.672816,18.561272,15.577383]\n",
      "Centroid2=[1.447187,1.217946,-0.211552,-0.307014]\n",
      "Centroid3=[-0.428656,-0.583217,2.706388,3.115837]\n",
      "Centroid4=[-0.512279,-0.417831,-0.103341,-0.086747]\n",
      "WC-SSE=20187.9272295\n",
      "Centroid1=[-0.419921,-0.594796,2.450747,2.891816]\n",
      "Centroid2=[-0.253987,-0.681881,-0.215234,-0.191484]\n",
      "Centroid3=[-0.486070,-0.522725,0.749932,0.871910]\n",
      "Centroid4=[-0.422454,-0.621335,6.034935,6.670917]\n",
      "Centroid5=[-0.279217,-0.676480,19.991373,16.344588]\n",
      "Centroid6=[0.232818,0.560336,-0.186605,-0.253399]\n",
      "Centroid7=[2.025567,1.788992,-0.266879,-0.349936]\n",
      "Centroid8=[-0.732351,-0.560890,-0.207256,-0.211708]\n",
      "WC-SSE=7043.65937262\n",
      "Centroid1=[-0.294761,-0.547048,4.880782,3.352715]\n",
      "Centroid2=[3.233912,3.624724,-0.253439,-0.352189]\n",
      "Centroid3=[0.725044,0.509274,-0.238716,-0.312964]\n",
      "Centroid4=[-0.424096,0.628410,-0.252453,-0.261448]\n",
      "Centroid5=[-0.421851,-0.639732,7.708453,8.378702]\n",
      "Centroid6=[-0.418783,0.628224,0.559609,0.547603]\n",
      "Centroid7=[1.443214,0.904252,-0.290286,-0.356691]\n",
      "Centroid8=[-0.253577,-0.681812,-0.274194,-0.266271]\n",
      "Centroid9=[-0.731662,-0.560307,0.228668,0.252993]\n",
      "Centroid10=[-0.732360,-0.561028,-0.272638,-0.285763]\n",
      "Centroid11=[-0.437777,-0.587508,2.187218,1.788638]\n",
      "Centroid12=[-0.255853,-0.682102,22.976140,18.173503]\n",
      "Centroid13=[-0.480426,-0.624932,1.896226,4.653108]\n",
      "Centroid14=[-0.504551,-0.612392,0.789461,1.287970]\n",
      "Centroid15=[-0.255753,-0.682257,0.242359,0.302212]\n",
      "Centroid16=[0.768380,0.556894,0.750713,0.225504]\n",
      "WC-SSE=3305.66469303\n",
      "Centroid1=[-0.470457,-0.618872,1.187523,3.215963]\n",
      "Centroid2=[0.516750,0.614044,-0.266127,-0.322036]\n",
      "Centroid3=[-0.546034,-0.607396,1.292361,6.170643]\n",
      "Centroid4=[-0.424060,0.628471,-0.321773,-0.335127]\n",
      "Centroid5=[-0.494938,-0.620605,4.261480,11.974298]\n",
      "Centroid6=[-0.432723,-0.606388,2.440818,1.718738]\n",
      "Centroid7=[-0.484004,-0.624099,0.661768,1.804945]\n",
      "Centroid8=[1.016781,0.365239,-0.260745,-0.335607]\n",
      "Centroid9=[-0.241334,-0.514671,5.257880,2.582312]\n",
      "Centroid10=[-0.284243,-0.675237,16.689940,13.190713]\n",
      "Centroid11=[-0.435365,-0.636396,3.057510,3.967302]\n",
      "Centroid12=[3.331299,3.590390,-0.260241,-0.348697]\n",
      "Centroid13=[-0.256525,-0.682334,0.165898,0.663094]\n",
      "Centroid14=[-0.423581,0.628087,0.569839,0.302690]\n",
      "Centroid15=[-0.589108,-0.596435,0.674659,0.277179]\n",
      "Centroid16=[-0.356570,0.630433,1.166650,1.191695]\n",
      "Centroid17=[-0.730984,-0.560444,0.080006,0.668291]\n",
      "Centroid18=[1.442854,0.905056,0.198021,-0.133524]\n",
      "Centroid19=[2.075115,4.033250,-0.172503,-0.393748]\n",
      "Centroid20=[0.665297,0.519741,0.332947,0.000212]\n",
      "Centroid21=[-0.439229,-0.595007,5.260209,6.485007]\n",
      "Centroid22=[-0.253276,-0.681727,-0.311088,-0.311003]\n",
      "Centroid23=[-0.255366,-0.682213,-0.015778,0.015676]\n",
      "Centroid24=[-0.731551,-0.560490,-0.004733,-0.023637]\n",
      "Centroid25=[-0.424187,0.628222,-0.055435,-0.070729]\n",
      "Centroid26=[1.443235,0.904194,-0.321505,-0.370366]\n",
      "Centroid27=[-0.487766,-0.622957,1.239193,0.937863]\n",
      "Centroid28=[-0.337989,-0.661444,9.514387,6.273681]\n",
      "Centroid29=[0.763649,0.578232,1.342891,0.491969]\n",
      "Centroid30=[-0.732692,-0.561093,-0.309665,-0.324187]\n",
      "Centroid31=[-0.256212,-0.682039,30.981867,25.905622]\n",
      "Centroid32=[-0.361607,0.630387,0.036176,0.693076]\n",
      "WC-SSE=2265.34343833\n",
      "Centroid1=[-0.494938,-0.620605,4.261480,11.974298]\n",
      "Centroid2=[-0.385172,0.629564,0.038608,0.685879]\n",
      "Centroid3=[-0.731792,-0.559634,0.383338,0.043790]\n",
      "Centroid4=[2.075115,4.033250,-0.172503,-0.393748]\n",
      "Centroid5=[-0.450999,-0.619284,2.348664,2.976232]\n",
      "Centroid6=[-0.429735,-0.604294,3.971414,5.534219]\n",
      "Centroid7=[-0.424116,0.628530,-0.145031,-0.141882]\n",
      "Centroid8=[-0.730626,-0.560347,0.135607,-0.156162]\n",
      "Centroid9=[-0.473998,-0.626221,5.696922,7.096717]\n",
      "Centroid10=[-0.256134,-0.682328,-0.041717,0.496585]\n",
      "Centroid11=[-0.733086,-0.560716,0.021934,0.058376]\n",
      "Centroid12=[-0.732796,-0.560319,0.540741,0.920023]\n",
      "Centroid13=[-0.285983,-0.674845,16.758874,13.532519]\n",
      "Centroid14=[-0.356670,-0.595437,3.019439,1.597308]\n",
      "Centroid15=[1.003912,0.301365,-0.290374,-0.346646]\n",
      "Centroid16=[-0.730398,-0.560516,-0.076082,-0.235026]\n",
      "Centroid17=[-0.253164,-0.681635,-0.328355,-0.330484]\n",
      "Centroid18=[-0.254520,-0.682345,0.913634,0.309210]\n",
      "Centroid19=[-0.498697,-0.620579,1.284636,1.034243]\n",
      "Centroid20=[0.648185,0.578512,1.650236,0.716074]\n",
      "Centroid21=[3.331360,3.590483,-0.165265,-0.316868]\n",
      "Centroid22=[1.443027,0.904497,-0.250207,-0.334155]\n",
      "Centroid23=[-0.184792,-0.434881,4.500088,1.999871]\n",
      "Centroid24=[1.443318,0.904028,-0.359250,-0.389362]\n",
      "Centroid25=[0.466717,0.346026,-0.223000,-0.340707]\n",
      "Centroid26=[-0.410135,-0.642717,3.573960,3.729353]\n",
      "Centroid27=[-0.256982,-0.682533,0.588979,0.887230]\n",
      "Centroid28=[-0.732205,-0.560153,1.038386,0.495128]\n",
      "Centroid29=[0.690100,0.504106,0.761306,0.210630]\n",
      "Centroid30=[-0.471265,-0.603584,0.571310,3.701419]\n",
      "Centroid31=[0.525446,0.660759,-0.298466,-0.341754]\n",
      "Centroid32=[-0.339132,-0.660054,2.008281,0.739794]\n",
      "Centroid33=[1.442821,0.905129,0.302433,-0.077885]\n",
      "Centroid34=[1.003134,0.300854,0.111026,-0.149313]\n",
      "Centroid35=[-0.423807,0.628025,0.727937,0.412002]\n",
      "Centroid36=[-0.494953,-0.609673,1.304677,2.467227]\n",
      "Centroid37=[-0.732106,-0.560697,-0.241432,-0.324769]\n",
      "Centroid38=[0.521550,0.636345,0.099926,-0.075432]\n",
      "Centroid39=[-0.373492,0.629900,1.133566,1.250184]\n",
      "Centroid40=[-0.424309,0.627860,0.156356,0.054158]\n",
      "Centroid41=[-0.254375,-0.682115,-0.032569,-0.190424]\n",
      "Centroid42=[-0.732403,-0.560831,-0.277343,-0.136945]\n",
      "Centroid43=[-0.730071,-0.560576,0.179042,0.405443]\n",
      "Centroid44=[-0.255967,-0.682195,0.293727,0.151605]\n",
      "Centroid45=[-0.731498,-0.559901,0.631202,0.309079]\n",
      "Centroid46=[1.443115,0.905100,1.102480,0.240169]\n",
      "Centroid47=[-0.453808,-0.631788,1.984162,4.627756]\n",
      "Centroid48=[-0.502205,-0.619406,0.949690,1.624571]\n",
      "Centroid49=[-0.731024,-0.560467,-0.116024,0.662417]\n",
      "Centroid50=[-0.424017,0.628427,-0.332539,-0.346716]\n",
      "Centroid51=[-0.518052,-0.614538,-0.054350,1.277422]\n",
      "Centroid52=[3.331267,3.590342,-0.335097,-0.380681]\n",
      "Centroid53=[-0.256212,-0.682039,30.981867,25.905622]\n",
      "Centroid54=[-0.525724,-0.612541,1.998616,1.689900]\n",
      "Centroid55=[-0.268767,-0.572201,6.387697,3.396500]\n",
      "Centroid56=[-0.598562,-0.593559,1.178227,6.932084]\n",
      "Centroid57=[-0.347320,-0.659048,9.942034,6.522293]\n",
      "Centroid58=[1.072713,0.640542,-0.324852,-0.375036]\n",
      "Centroid59=[3.331385,3.590524,0.145500,-0.138201]\n",
      "Centroid60=[-0.732983,-0.560381,-0.231875,0.181411]\n",
      "Centroid61=[-0.436247,-0.635878,0.167923,2.125732]\n",
      "Centroid62=[-0.255008,-0.682345,-0.216442,0.008583]\n",
      "Centroid63=[1.442997,0.905051,-0.059747,-0.249414]\n",
      "Centroid64=[-0.733005,-0.561402,-0.359333,-0.363516]\n"
     ]
    }
   ],
   "source": [
    "#log transformation\n",
    "# Repeat a)\n",
    "sse = []\n",
    "for k in [2, 4, 8, 16, 32, 64]:\n",
    "    clustering.skMain('yelp.csv', k,'km')\n",
    "    sse.append(clustering.globalSse)"
   ]
  },
  {
   "cell_type": "code",
   "execution_count": null,
   "metadata": {
    "collapsed": true
   },
   "outputs": [],
   "source": [
    "plt.plot([2, 4, 8, 16, 32, 64],sse)\n",
    "plt.show()"
   ]
  },
  {
   "cell_type": "code",
   "execution_count": null,
   "metadata": {
    "collapsed": true
   },
   "outputs": [],
   "source": [
    "# repeat b)\n",
    "k = 4\n",
    "clustering.skMain('yelp.csv', k, 'km')"
   ]
  },
  {
   "cell_type": "code",
   "execution_count": null,
   "metadata": {
    "collapsed": true
   },
   "outputs": [],
   "source": [
    "# 1) latitude vs. longitude\n",
    "colors = ['r', 'g', 'b', 'y', 'c', 'm']\n",
    "fig, ax = plt.subplots()\n",
    "for i in range(k):\n",
    "        points = np.take(clustering.X,clustering.globalCs[i].data, axis=0)\n",
    "        ax.scatter(points[:, 0] , points[:, 1], s=1, c=colors[i])\n",
    "        \n",
    "C = np.array([c.center for c in clustering.globalCs])\n",
    "ax.scatter(C[:, 0], C[:, 1], marker='*', s=200, c='#050505')"
   ]
  },
  {
   "cell_type": "code",
   "execution_count": null,
   "metadata": {
    "collapsed": true
   },
   "outputs": [],
   "source": [
    "# (2) reviewCount, checkins. \n",
    "colors = ['r', 'g', 'b', 'y', 'c', 'm']\n",
    "fig, ax = plt.subplots()\n",
    "for i in range(k):\n",
    "        points = np.take(clustering.X,clustering.globalCs[i].data, axis=0)\n",
    "        ax.scatter(points[:, 2] , points[:, 3], s=1, c=colors[i])\n",
    "        \n",
    "C = np.array([c.center for c in clustering.globalCs])\n",
    "ax.scatter(C[:, 2], C[:, 3], marker='*', s=200, c='#050505')"
   ]
  },
  {
   "cell_type": "markdown",
   "metadata": {},
   "source": [
    "### 3. K-means vs. Agglomerative clustering. You do not need to submit code for this part. Just include the required plots and explanations in the PDF (20 pts).\n",
    "\n",
    "***(a) Run K-means (using a random set of examples as the initial centroids) and Ag- glomerative Clustering on the dummy.csv dataset with k = 3. Make a scatter plot of latitude vs. longitude after each run where each sample is colored according to its cluster color. Subjectively (looking at the plot), which algorithm performs better? Explain. (2 Plots + answer in the PDF)***"
   ]
  },
  {
   "cell_type": "code",
   "execution_count": null,
   "metadata": {
    "collapsed": true
   },
   "outputs": [],
   "source": [
    "# kmeans\n",
    "k = 3\n",
    "clustering.main('yelp.csv', k, 'km')"
   ]
  },
  {
   "cell_type": "code",
   "execution_count": null,
   "metadata": {
    "collapsed": true
   },
   "outputs": [],
   "source": [
    "# kmeans: latitude vs. longitude\n",
    "colors = ['r', 'g', 'b', 'y', 'c', 'm']\n",
    "fig, ax = plt.subplots()\n",
    "for i in range(k):\n",
    "        points = np.take(clustering.X,clustering.globalCs[i].data, axis=0)\n",
    "        ax.scatter(points[:, 0] , points[:, 1], s=1, c=colors[i])\n",
    "        \n",
    "C = np.array([c.center for c in clustering.globalCs])\n",
    "ax.scatter(C[:, 0], C[:, 1], marker='*', s=200, c='#050505')"
   ]
  },
  {
   "cell_type": "code",
   "execution_count": null,
   "metadata": {
    "collapsed": true
   },
   "outputs": [],
   "source": [
    "# Agglomerative clustering\n",
    "k = 3\n",
    "clustering.main('yelp.csv', k, 'ac')"
   ]
  },
  {
   "cell_type": "markdown",
   "metadata": {},
   "source": [
    "***(b) Does K-means always yield the same result if it is applied over and over? What about Agglomerative Clustering?***"
   ]
  },
  {
   "cell_type": "markdown",
   "metadata": {},
   "source": [
    "K-Means: it won't have same result. Because of the randomized initial k centers, it will grow the clusters depends on the randomized centers, which will lead to different result.\n",
    "\n",
    "Agglomerative Clustering: The result will be the same. Since, the basic idea is just to group the cluster with the most 'similarity' together, so there's no randomness in the progress, which make the result consistant."
   ]
  },
  {
   "cell_type": "markdown",
   "metadata": {},
   "source": [
    "***(c) If K-means and Agglomerative clustering are applied on the Yelp dataset, which one is going to take more time? Why? (answer in the PDF)***"
   ]
  },
  {
   "cell_type": "markdown",
   "metadata": {},
   "source": [
    "K-Means: The complexity is O(n*k*i) (n = total elements, k = number of cluster i = iteration)\n",
    "\n",
    "Agglomerative Clustering: The complexity is O(n^3) and takes O(n^2) memory, which makes it too slow for even medium data sets.\n",
    "\n",
    "n*k*i generally will be smaller than n^3\n",
    "\n",
    "Our yelp data set is humangous, so kmeans is definietly a better solution under the assumtption of we will have less clusters and relative short amount of iteration."
   ]
  }
 ],
 "metadata": {
  "kernelspec": {
   "display_name": "Python 2",
   "language": "python",
   "name": "python2"
  },
  "language_info": {
   "codemirror_mode": {
    "name": "ipython",
    "version": 2
   },
   "file_extension": ".py",
   "mimetype": "text/x-python",
   "name": "python",
   "nbconvert_exporter": "python",
   "pygments_lexer": "ipython2",
   "version": "2.7.13"
  }
 },
 "nbformat": 4,
 "nbformat_minor": 2
}
