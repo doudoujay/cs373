{
 "cells": [
  {
   "cell_type": "markdown",
   "metadata": {},
   "source": [
    "# ma438-hw4\n",
    "NB and perceptron"
   ]
  },
  {
   "cell_type": "markdown",
   "metadata": {},
   "source": [
    "### 1 Perceptron Details (20 Points)\n",
    "> There is an important term called the bias missing from the equation above. Write the equation for the model with the bias term included. What is the significance of this term? Explain this using example plots for both cases."
   ]
  },
  {
   "cell_type": "markdown",
   "metadata": {},
   "source": [
    "> Below there are four figures that show the distribution of datapoints with binary classes. The two colors denote the different classes. For each of these, reason whether the following do would give a high(> 0.95) classification accuracy.\n",
    "(i) a perceptron without bias\n",
    "(ii) a perceptron with bias"
   ]
  },
  {
   "cell_type": "markdown",
   "metadata": {},
   "source": [
    ">For the given Yelp data suggest a way of engineering a new feature from the given\n",
    "set(or subset) of features. Explain your answer and justify how this new feature\n",
    "might be capturing some form of complex behavior."
   ]
  },
  {
   "cell_type": "markdown",
   "metadata": {},
   "source": [
    "> The pseudocode for the vanilla perceptron algorithm is given below (Algorithm 1).\n",
    "What do the weights and bias terms denote? Why do we need to update these in a perceptron? How do line 8 and line 9 in the pseudocode achieve this? (Hint:\n",
    "Assume binary classes (0,1))"
   ]
  },
  {
   "cell_type": "markdown",
   "metadata": {},
   "source": [
    "> Average Perceptron In an average perceptron, instead of returning the updated\n",
    "weights/bias at the end of the training, we return the average of all the weights/bias\n",
    "calculated in each iteration for each data point.\n",
    "a) Write a pseudocode for the Average Perceptron. (Hint: You only need to\n",
    "add a few lines to the given pseudocode of the vanilla perceptron.)\n",
    "b) What is the advantage/disadvantage of doing this?"
   ]
  },
  {
   "cell_type": "markdown",
   "metadata": {},
   "source": [
    "### 2.1 Naive Bayes Details (20 Points)\n",
    "\n",
    "1. Write down the mathematical expression for P (Y |X) given by the Naive Bayes\n",
    "Classifier(Hint: It’s not just the Bayes equation).\n",
    "\n",
    "2. Suppose your data has binary class labels , i.e y ∈ {0, 1}, write the expression for\n",
    "predicting the class for a given input row. You will use this expression in your\n",
    "implementation.\n",
    "3. State the naive assumption that lets us simplify the expression P (X|Y )P (Y ). Is\n",
    "this assumption true for the given Yelp data? Explain why or why not?\n",
    "4. What part of the expression corresponds to the class prior? Considering the entire\n",
    "Yelp data as the training dataset, calculate the maximum likelihood estimate for\n",
    "the class prior with and without smoothing. What is the effect of smoothing on\n",
    "the final probabilities?\n",
    "5. Specify the full set of parameters that need to be estimated for the NBC model of\n",
    "the Yelp data. How many parameters are there?\n",
    "6. For the Yelp data, explicitly state the mathematical expression for the maximum\n",
    "likelihood estimates (with smoothing) of the CPD parameters for the attribute\n",
    "alcohol conditioned on the the class label goodForGroups.\n",
    "7. Consider the entire Yelp data as the training dataset and goodForGroups as the\n",
    "class label. Estimate the conditional probability distributions of the following\n",
    "attributes with and without smoothing:\n",
    "a) stars\n",
    "b) waiterService\n",
    "c) caters\n",
    "d) attire\n",
    "What is the effect of smoothing (e.g., any difference compared to 4.)? Which\n",
    "attribute shows the most association with the class? Why?"
   ]
  },
  {
   "cell_type": "code",
   "execution_count": null,
   "metadata": {
    "collapsed": true
   },
   "outputs": [],
   "source": []
  }
 ],
 "metadata": {
  "kernelspec": {
   "display_name": "Python 2",
   "language": "python",
   "name": "python2"
  },
  "language_info": {
   "codemirror_mode": {
    "name": "ipython",
    "version": 2
   },
   "file_extension": ".py",
   "mimetype": "text/x-python",
   "name": "python",
   "nbconvert_exporter": "python",
   "pygments_lexer": "ipython2",
   "version": "2.7.13"
  }
 },
 "nbformat": 4,
 "nbformat_minor": 2
}
