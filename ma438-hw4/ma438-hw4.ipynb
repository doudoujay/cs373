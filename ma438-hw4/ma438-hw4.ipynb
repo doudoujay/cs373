{
 "cells": [
  {
   "cell_type": "markdown",
   "metadata": {},
   "source": [
    "# ma438-hw4\n",
    "NB and perceptron"
   ]
  },
  {
   "cell_type": "markdown",
   "metadata": {},
   "source": [
    "### 1 Perceptron Details (20 Points)\n",
    "> There is an important term called the bias missing from the equation above. Write the equation for the model with the bias term included. What is the significance of this term? Explain this using example plots for both cases.\n",
    "\n",
    "$f(x)=\n",
    "\\left\\{\\begin{matrix}\n",
    " 1 & \\sum w_j*x_j + b \\geq 0 \\\\\n",
    " 0 & \\sum w_j*x_j + b < 0\n",
    "\\end{matrix}\\right.$\n",
    "\n",
    "The significance of this term is this will help shifts the decision bounrdary. Without b the line always goes through the origin (0, 0) and you may get a poorer fit.\n",
    "\n",
    "\n",
    "\n",
    "![](biasdiff.png)\n",
    "\n",
    "As the example showed here the red line is without bias and blue line is with bias."
   ]
  },
  {
   "cell_type": "markdown",
   "metadata": {},
   "source": [
    "> Below there are four figures that show the distribution of datapoints with binary classes. The two colors denote the different classes. For each of these, reason whether the following do would give a high(> 0.95) classification accuracy.\n",
    "\n",
    "![](perceptron.png)\n",
    "(i) a perceptron without bias<br>\n",
    "a, c, because the function is origin from 0.\n",
    "\n",
    "(ii) a perceptron with bias<br>\n",
    "b, d, because the function is not origin form 0."
   ]
  },
  {
   "cell_type": "markdown",
   "metadata": {},
   "source": [
    ">For the given Yelp data suggest a way of engineering a new feature from the given\n",
    "set(or subset) of features. Explain your answer and justify how this new feature\n",
    "might be capturing some form of complex behavior.\n",
    "\n",
    "The stars, priceRange and waiterService might be closely corelated and could be amalgamated as a new feature. Since the domain knowledge suggests they are quite related: a high start restaurant is usually expensive and has good waiter service. We could use PCA to validate this hypothesis."
   ]
  },
  {
   "cell_type": "markdown",
   "metadata": {},
   "source": [
    "> The pseudocode for the vanilla perceptron algorithm is given below (Algorithm 1).\n",
    "What do the weights and bias terms denote? Why do we need to update these in a perceptron? How do line 8 and line 9 in the pseudocode achieve this? (Hint:\n",
    "Assume binary classes (0,1))\n",
    "\n",
    "weights denote $w_i$, which is a weight vector that is corresponding to features in X, and bias denote b which is a constant that added up to the final function to predict Y. Th reason why we need to update them is we need to 'correct' the model based on newly feed entry point by each iteration by updating the weight and bias if we have any error for the model. The line 8 and line 9 is updating bias by adding error term and adding weights by error term times feature X. The error could be 0 - 0, 0 - 1, 1 - 0, 1 - 1, which are 0, -1, 1. The error term will gives the 'direction' to help model correct itself."
   ]
  },
  {
   "cell_type": "markdown",
   "metadata": {},
   "source": [
    "> Average Perceptron In an average perceptron, instead of returning the updated\n",
    "weights/bias at the end of the training, we return the average of all the weights/bias\n",
    "calculated in each iteration for each data point.\n",
    "\n",
    "\n",
    "a) Write a pseudocode for the Average Perceptron. (Hint: You only need to\n",
    "add a few lines to the given pseudocode of the vanilla perceptron.)\n",
    "\n",
    "``` python\n",
    "# init weights\n",
    "self.w = np.zeros((self.X.shape[1]))\n",
    "self.a = np.zeros((self.X.shape[1]))\n",
    "# init bias\n",
    "self.b = 0\n",
    "self.b_cahced = 0\n",
    "n = self.X.shape[0]\n",
    "step = n * self.iter\n",
    "for i in range(0, self.iter):\n",
    "    for entry in range(0, self.X.shape[0]):\n",
    "        error = self.Y[entry] - self.activation(self.X.loc[entry])\n",
    "        if error != 0:\n",
    "            # update bias\n",
    "            self.b += error\n",
    "            # update weights\n",
    "            self.w += error * self.X.loc[entry] * self.lr\n",
    "            # update a\n",
    "            self.a += (float(step) / (n * self.iter)) * error * self.X.loc[entry] * self.lr\n",
    "            self.b_cahced += (float(step) / (n * self.iter)) * error\n",
    "        step -= 1\n",
    "# print self.a\n",
    "return self.a, self.b_cahced\n",
    "```\n",
    "b) What is the advantage/disadvantage of doing this?\n",
    "\n",
    "Pros: <br>\n",
    "It will be more robust to the 'noisy' data that might change the later, prevent overfitting. Plus, it will save the space for average weight by computing in real time instead of store them and divide them later.\n",
    "\n",
    "Cons: <br>\n",
    "It could take slightly more computation than the vanilla version of the perceptron. And it could 'erase' some of the pattern in the model."
   ]
  },
  {
   "cell_type": "markdown",
   "metadata": {},
   "source": [
    "### 2.1 Naive Bayes Details (20 Points)\n",
    "\n",
    ">Write down the mathematical expression for P (Y |X) given by the Naive Bayes\n",
    "Classifier(Hint: It’s not just the Bayes equation).\n",
    "\n",
    "P(Y|X) = $\\frac{P(Y)*P(X|Y)}{P(X)}$ = $\\frac{prior*likelihood}{evidence}$ = $P(X_1|Y)*P(X_2|Y)...*P(X_n|Y)$\n"
   ]
  },
  {
   "cell_type": "markdown",
   "metadata": {},
   "source": [
    "> Suppose your data has binary class labels , i.e y ∈ {0, 1}, write the expression for\n",
    "predicting the class for a given input row. You will use this expression in your\n",
    "implementation.\n",
    "\n",
    "$y_{NB} = argmax(P(X|Y)P(Y))$, so we first <br>\n",
    "compute prob for class 0 P0 = $P(X_1|Y=0)*P(X_2|Y=0)...*P(X_n|Y=0)$, then <br>\n",
    "compute prob for class 1 P1 = $P(X_1|Y=1)*P(X_2|Y=1)...*P(X_n|Y=1)$. <br>\n",
    "Then we take argmax(P0, P1), then we get the prediction :)"
   ]
  },
  {
   "cell_type": "markdown",
   "metadata": {},
   "source": [
    "> State the naive assumption that lets us simplify the expression P (X|Y )P (Y ). Is\n",
    "this assumption true for the given Yelp data? Explain why or why not?\n",
    "\n",
    "We assume all the features are independent. It is not true for all features in yelp dataset. As I mentioned above, some of the features are related(stars, priceRange and waiterService). However, we could use pca to elimate this problem."
   ]
  },
  {
   "cell_type": "markdown",
   "metadata": {},
   "source": [
    "> What part of the expression corresponds to the class prior? Considering the entire\n",
    "Yelp data as the training dataset, calculate the maximum likelihood estimate for\n",
    "the class prior with and without smoothing. What is the effect of smoothing on\n",
    "the final probabilities?\n",
    "\n",
    "P(Y) in the expression above is prior.  <br>\n",
    "Without smoothing $\\frac{N(X = a, Y = b)}{N(Y = b)}$.<br>\n",
    "With smoothing $\\frac{N(X = a, Y = b) + 1}{N(Y = b) + k}$ where k is number of possible labels in X.<br>\n",
    "The effect of smoothing is avoiding the 0 final probabilities for some of the label that we didn't see before. It is a workaround to make sure the model works correctly even if we have incomplete labels seen in the training session."
   ]
  },
  {
   "cell_type": "markdown",
   "metadata": {},
   "source": [
    ">Specify the full set of parameters that need to be estimated for the NBC model of\n",
    "the Yelp data. How many parameters are there?\n",
    "\n",
    "Consider we are building a map with key, prob. The prob is the corresponding likelihood. The key will be consists by feature, label, and target class. For example, we will encounter calculating probability of a probability with 'city' as feature, 'Edinburgh' as label in feature, and 1 as target class. So, the total parameters would be $2*14*n$, which 2 is classes we have for isGoodForGroup, 14 is the feature number, n is the assume average labels in each feature."
   ]
  },
  {
   "cell_type": "markdown",
   "metadata": {},
   "source": [
    "> For the Yelp data, explicitly state the mathematical expression for the maximum\n",
    "likelihood estimates (with smoothing) of the CPD parameters for the attribute\n",
    "alcohol conditioned on the the class label goodForGroups.\n",
    "\n",
    "$\\frac{N(X = a, Y = b) + 1}{N(Y = b) + k}$<br>\n",
    "In this case it should be $\\frac{N(alcohol = a, goodForGroups = 1) + 1}{N(goodForGroups = 1) + k}$ and $\\frac{N(alcohol = a, goodForGroups = 0) + 1}{N(goodForGroups = 0) + k}$\n",
    "\n",
    "The possible value for a is (none full_bar beer_and_wine). So k is 3."
   ]
  },
  {
   "cell_type": "markdown",
   "metadata": {},
   "source": [
    "> Consider the entire Yelp data as the training dataset and goodForGroups as the\n",
    "class label. Estimate the conditional probability distributions of the following\n",
    "attributes with and without smoothing:\n",
    "\n",
    "We know that goodForGroup = 1 has 12010, goodForGroup = 0 has 7990.<br>\n",
    "So p(goodForGroup = 1) = 0.6005 , p(goodForGroup = 0) = 0.3995"
   ]
  },
  {
   "cell_type": "code",
   "execution_count": 3,
   "metadata": {},
   "outputs": [],
   "source": [
    "from nbc import *\n",
    "from split import *\n",
    "from load import *\n",
    "split_normal(\"yelp_cat.csv\",0.2)\n",
    "X_train, X_test, Y_train, Y_test = load_normal(\"train.csv\", \"test.csv\")\n",
    "nb = NaiveBayes(X_train, Y_train)"
   ]
  },
  {
   "cell_type": "code",
   "execution_count": 4,
   "metadata": {},
   "outputs": [
    {
     "name": "stdout",
     "output_type": "stream",
     "text": [
      "stars 3.5goodForGroup = 0 0.223836301156\n",
      "stars 4.5goodForGroup = 0 0.167135270228\n",
      "stars 2.0goodForGroup = 0 0.0463917525773\n",
      "stars 3.0goodForGroup = 0 0.159012808497\n",
      "stars 4.0goodForGroup = 0 0.241330834114\n",
      "stars 5.0goodForGroup = 0 0.042330521712\n",
      "stars 2.5goodForGroup = 0 0.0945017182131\n",
      "stars 1.0goodForGroup = 0 0.00515463917526\n",
      "stars 1.5goodForGroup = 0 0.0203061543268\n",
      "stars 3.5goodForGroup = 1 0.286518024588\n",
      "stars 4.5goodForGroup = 1 0.103042300479\n",
      "stars 2.0goodForGroup = 1 0.0360491769119\n",
      "stars 3.0goodForGroup = 1 0.191289852053\n",
      "stars 4.0goodForGroup = 1 0.258908105855\n",
      "stars 5.0goodForGroup = 1 0.0142738070431\n",
      "stars 2.5goodForGroup = 1 0.0975203167327\n",
      "stars 1.0goodForGroup = 1 0.00166701396124\n",
      "stars 1.5goodForGroup = 1 0.0107314023755\n"
     ]
    }
   ],
   "source": [
    "#a) stars\n",
    "nb.calcProb(\"stars\")"
   ]
  },
  {
   "cell_type": "code",
   "execution_count": 5,
   "metadata": {},
   "outputs": [
    {
     "name": "stdout",
     "output_type": "stream",
     "text": [
      "waiterService FALSEgoodForGroup = 0 0.14526710403\n",
      "waiterService TRUEgoodForGroup = 0 0.233364573571\n",
      "waiterService BLANKgoodForGroup = 0 0.621368322399\n",
      "waiterService FALSEgoodForGroup = 1 0.339758282976\n",
      "waiterService TRUEgoodForGroup = 1 0.479162325484\n",
      "waiterService BLANKgoodForGroup = 1 0.18107939154\n"
     ]
    }
   ],
   "source": [
    "#b) waiterService\n",
    "nb.calcProb(\"waiterService\")"
   ]
  },
  {
   "cell_type": "code",
   "execution_count": 6,
   "metadata": {},
   "outputs": [
    {
     "name": "stdout",
     "output_type": "stream",
     "text": [
      "caters TRUEgoodForGroup = 0 0.112308653546\n",
      "caters FALSEgoodForGroup = 0 0.134176819744\n",
      "caters BLANKgoodForGroup = 0 0.75351452671\n",
      "caters TRUEgoodForGroup = 1 0.272869347781\n",
      "caters FALSEgoodForGroup = 1 0.300687643259\n",
      "caters BLANKgoodForGroup = 1 0.42644300896\n"
     ]
    }
   ],
   "source": [
    "# c) caters\n",
    "nb.calcProb(\"caters\")"
   ]
  },
  {
   "cell_type": "code",
   "execution_count": 7,
   "metadata": {},
   "outputs": [
    {
     "name": "stdout",
     "output_type": "stream",
     "text": [
      "attire formalgoodForGroup = 0 0.000624804748516\n",
      "attire dressygoodForGroup = 0 0.0101530771634\n",
      "attire casualgoodForGroup = 0 0.396282411746\n",
      "attire BLANKgoodForGroup = 0 0.592939706342\n",
      "attire formalgoodForGroup = 1 0.00229214419671\n",
      "attire dressygoodForGroup = 1 0.0293811210669\n",
      "attire casualgoodForGroup = 1 0.874244634299\n",
      "attire BLANKgoodForGroup = 1 0.0940821004376\n"
     ]
    }
   ],
   "source": [
    "# d) attire\n",
    "nb.calcProb(\"attire\")"
   ]
  },
  {
   "cell_type": "markdown",
   "metadata": {},
   "source": [
    "What is the effect of smoothing (e.g., any difference compared to 4.)? Which\n",
    "attribute shows the most association with the class? Why?\n",
    "\n",
    "It is basically for workaround of the unseen attributes"
   ]
  },
  {
   "cell_type": "markdown",
   "metadata": {
    "collapsed": true
   },
   "source": [
    "### 3. Analysis"
   ]
  },
  {
   "cell_type": "markdown",
   "metadata": {},
   "source": [
    "Now you will evaluate your models avg.py and nbc.py using cross validation and learn- ing curves. Cross-validation is a powerful tool to tune your hyperparameters and gauge how well your learned model generalizes. The basic idea behind cross-validation is that a subset of the data is kept aside(called the validation set) before the training begins. When we have a learned model, the validation set can used to test the performance of our model.\n",
    "\n",
    "In k-fold cross-validation, the data is divided into k subsets. In each iteration we use one such subset as the test set and train on the remaining k − 1 subsets as training set. This process is repeated k times. We then take the average error accross all k trails. This gives a more accurate measure of model quality than if you were to hold out some fixed subset of the training data as validation set.\n",
    "\n",
    "In general you would use cross-validation to tune the hyperparameters of your model (e.g. MaxIter in the Perceptron model), but for the following problems you should use the default value."
   ]
  },
  {
   "cell_type": "code",
   "execution_count": 1,
   "metadata": {},
   "outputs": [],
   "source": [
    "from sklearn.model_selection import KFold\n",
    "from split import split, split_normal\n",
    "from util import *\n",
    "from perceptron import *\n",
    "from nbc import *\n",
    "from tqdm import tqdm"
   ]
  },
  {
   "cell_type": "markdown",
   "metadata": {},
   "source": [
    "### 1 & 2 & 3"
   ]
  },
  {
   "cell_type": "markdown",
   "metadata": {},
   "source": [
    "### Perceptron"
   ]
  },
  {
   "cell_type": "code",
   "execution_count": 8,
   "metadata": {},
   "outputs": [],
   "source": [
    "# Perceptron zeroloss\n",
    "percent = [1, 10, 50, 70]\n",
    "mean_zero_loss = []\n",
    "baseline = []\n",
    "iteration = 2\n",
    "train_set = 'train.csv'\n",
    "test_set = 'test.csv'"
   ]
  },
  {
   "cell_type": "code",
   "execution_count": 9,
   "metadata": {},
   "outputs": [
    {
     "name": "stderr",
     "output_type": "stream",
     "text": [
      " 11%|█         | 1/9 [00:06<00:50,  6.29s/it]Exception KeyError: KeyError(<weakref at 0x7ffad9c675d0; to 'tqdm' at 0x7ffad89d7ad0>,) in <object repr() failed> ignored\n",
      "100%|██████████| 9/9 [00:56<00:00,  6.28s/it]\n",
      "100%|██████████| 9/9 [01:05<00:00,  7.30s/it]\n",
      "100%|██████████| 9/9 [01:48<00:00, 12.03s/it]\n",
      "100%|██████████| 9/9 [02:08<00:00, 14.31s/it]\n"
     ]
    }
   ],
   "source": [
    "for p in percent:\n",
    "    test = (100-p)/float(100)\n",
    "    temp_zero_loss = 0\n",
    "    temp_baseline = 0\n",
    "    for i in tqdm(range(0,9)):\n",
    "        split(\"yelp_cat.csv\",test)\n",
    "        X_train, X_test, Y_train, Y_test = load(train_set, test_set)\n",
    "        p = perceptronAverage(iteration, X_train, Y_train)\n",
    "        p.train()\n",
    "        temp_baseline += baselinea_zero_one(Y_train, Y_test)\n",
    "        temp_zero_loss += p.test(X_test,Y_test)\n",
    "    mean_zero_loss.append(float(temp_zero_loss)/10)\n",
    "    baseline.append(float(temp_baseline)/10)"
   ]
  },
  {
   "cell_type": "code",
   "execution_count": 10,
   "metadata": {},
   "outputs": [
    {
     "data": {
      "image/png": "[encoded data removed]",
      "text/plain": [
       "<matplotlib.figure.Figure at 0x7fface1cbf90>"
      ]
     },
     "metadata": {},
     "output_type": "display_data"
    }
   ],
   "source": [
    "#plot for perceptron, consists mean_zero_loss, and baseline\n",
    "import matplotlib.pyplot as plt\n",
    "%matplotlib inline\n",
    "plt.plot(percent, mean_zero_loss)\n",
    "plt.plot(percent, baseline)\n",
    "plt.legend(['mean_zero_loss', 'baseline'], loc='upper left')\n",
    "plt.show()"
   ]
  },
  {
   "cell_type": "markdown",
   "metadata": {},
   "source": [
    "### NBC"
   ]
  },
  {
   "cell_type": "code",
   "execution_count": 2,
   "metadata": {},
   "outputs": [
    {
     "name": "stderr",
     "output_type": "stream",
     "text": [
      "100%|██████████| 9/9 [02:22<00:00, 15.86s/it]\n",
      "100%|██████████| 9/9 [01:16<00:00,  8.48s/it]\n",
      "100%|██████████| 9/9 [00:40<00:00,  4.50s/it]\n",
      "100%|██████████| 9/9 [00:24<00:00,  2.77s/it]\n"
     ]
    }
   ],
   "source": [
    "# Naive bayes zero one loss and square loss\n",
    "percent = [1, 10, 50, 70]\n",
    "mean_zero_loss = []\n",
    "mean_square_loss = []\n",
    "baseline = []\n",
    "iteration = 2\n",
    "train_set = 'train.csv'\n",
    "test_set = 'test.csv'\n",
    "\n",
    "for p in percent:\n",
    "    test = (100-p)/float(100)\n",
    "    temp_zero_loss = 0\n",
    "    temp_baseline = 0\n",
    "    temp_square = 0\n",
    "    for i in tqdm(range(0,9)):\n",
    "        split_normal(\"yelp_cat.csv\",test)\n",
    "        X_train, X_test, Y_train, Y_test = load_normal(train_set, test_set)\n",
    "        nb = NaiveBayes(X_train, Y_train)\n",
    "        # test\n",
    "        temp_baseline += baselinea_zero_one(Y_train, Y_test)\n",
    "        temp_zero_loss += nb.test_zero_one(X_test,Y_test)\n",
    "        temp_square += nb.test_square(X_test, Y_test)\n",
    "    mean_zero_loss.append(float(temp_zero_loss)/10)\n",
    "    baseline.append(float(temp_baseline)/10)\n",
    "    mean_square_loss.append(float(temp_square)/10)"
   ]
  },
  {
   "cell_type": "code",
   "execution_count": 3,
   "metadata": {},
   "outputs": [
    {
     "data": {
      "image/png": "[encoded data removed]",
      "text/plain": [
       "<matplotlib.figure.Figure at 0x7f705c7c1fd0>"
      ]
     },
     "metadata": {},
     "output_type": "display_data"
    }
   ],
   "source": [
    "#plots for NBC consists mean zero loss and baseline\n",
    "import matplotlib.pyplot as plt\n",
    "%matplotlib inline\n",
    "plt.plot(percent, mean_zero_loss)\n",
    "plt.plot(percent, baseline)\n",
    "plt.legend(['mean_zero_loss', 'baseline'], loc='upper left')\n",
    "plt.show()"
   ]
  },
  {
   "cell_type": "code",
   "execution_count": 4,
   "metadata": {},
   "outputs": [
    {
     "data": {
      "image/png": "[encoded data removed]",
      "text/plain": [
       "<matplotlib.figure.Figure at 0x7f705c2fa090>"
      ]
     },
     "metadata": {},
     "output_type": "display_data"
    }
   ],
   "source": [
    "#plots for NBC squared loss version\n",
    "import matplotlib.pyplot as plt\n",
    "%matplotlib inline\n",
    "plt.plot(percent, mean_square_loss)\n",
    "plt.legend(['mean_square_loss'], loc='upper left')\n",
    "plt.show()"
   ]
  },
  {
   "cell_type": "markdown",
   "metadata": {},
   "source": [
    "**How the two classifiers compare with each other and with the baseline.**\n",
    "\n",
    "They are both outperformed the baseline for sure. NBC has a very good loss score when it has a minimal data and the zero-one loss score kinda bounce back after 10(is it overfitting?). However, we can see that perceptron perform well than NBC after we feed it enough data.\n",
    "\n",
    "**How is zero-one loss impacted by training set size.**\n",
    "\n",
    "As training size increases, the zero-loss will decrease if the model doesn't overfit."
   ]
  },
  {
   "cell_type": "markdown",
   "metadata": {},
   "source": [
    "**How zero-one vs square-loss?**\n",
    "\n",
    "I would say the squre loss is much helpful if we are dealing with NBC. Since NBC is a probabilistic model, and squre loss function is based on probability, so it will be more fit compare to the hard 1/0 zero on loss function."
   ]
  },
  {
   "cell_type": "code",
   "execution_count": null,
   "metadata": {},
   "outputs": [],
   "source": []
  }
 ],
 "metadata": {
  "kernelspec": {
   "display_name": "Python 2",
   "language": "python",
   "name": "python2"
  },
  "language_info": {
   "codemirror_mode": {
    "name": "ipython",
    "version": 2
   },
   "file_extension": ".py",
   "mimetype": "text/x-python",
   "name": "python",
   "nbconvert_exporter": "python",
   "pygments_lexer": "ipython2",
   "version": "2.7.14"
  }
 },
 "nbformat": 4,
 "nbformat_minor": 2
}
