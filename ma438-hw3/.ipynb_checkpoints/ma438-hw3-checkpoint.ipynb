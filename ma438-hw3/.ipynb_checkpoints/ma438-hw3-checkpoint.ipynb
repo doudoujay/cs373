{
 "cells": [
  {
   "cell_type": "markdown",
   "metadata": {},
   "source": [
    "# ma438-hw3\n",
    "Name: Ji Ma<br>\n",
    "For the following questions, use adult.data as the training file and adult.test as the test file."
   ]
  },
  {
   "cell_type": "code",
   "execution_count": 1,
   "metadata": {},
   "outputs": [],
   "source": [
    "import decisiontree\n",
    "%matplotlib inline\n",
    "import matplotlib.pyplot as plt\n",
    "import matplotlib.cm as cm"
   ]
  },
  {
   "cell_type": "markdown",
   "metadata": {},
   "source": [
    "### 1. Vanilla\n",
    "\n",
    "For the full decision tree (vanilla), measure the impact of training set size on the accuracy and size of the tree. (4 points)\n",
    "Consider training set percentages {2%, 10%, 20%, 30%, 40%, 50%, 60%}<br>\n",
    "Plot a graph of test set accuracy and training set accuracy against training set percentage on the same plot. Plot another graph of number of nodes vs training set percentage."
   ]
  },
  {
   "cell_type": "code",
   "execution_count": 2,
   "metadata": {},
   "outputs": [
    {
     "name": "stdout",
     "output_type": "stream",
     "text": [
      "Training set accuracy: 0.935\n",
      "Test set accuracy: 0.7583\n",
      "Training set accuracy: 0.894\n",
      "Test set accuracy: 0.7532\n",
      "Training set accuracy: 0.867\n",
      "Test set accuracy: 0.7695\n",
      "Training set accuracy: 0.839666666667\n",
      "Test set accuracy: 0.7459\n",
      "Training set accuracy: 0.833\n",
      "Test set accuracy: 0.7553\n",
      "Training set accuracy: 0.8338\n",
      "Test set accuracy: 0.7447\n",
      "Training set accuracy: 0.8315\n",
      "Test set accuracy: 0.742\n"
     ]
    }
   ],
   "source": [
    "percentages = [2, 10, 20, 30, 40, 50, 60]\n",
    "testAccu = []\n",
    "trainingAccu = []\n",
    "nodeCounts = []\n",
    "for p in percentages:\n",
    "    decisiontree.main('adult.data','adult.test', 'vanilla', p)\n",
    "    trainingAccu.append(decisiontree.train_accu)\n",
    "    testAccu.append(decisiontree.test_accu)\n",
    "    nodeCounts.append(decisiontree.nodeCount)"
   ]
  },
  {
   "cell_type": "code",
   "execution_count": 3,
   "metadata": {},
   "outputs": [
    {
     "data": {
      "image/png": "[encoded data removed]",
      "text/plain": [
       "<matplotlib.figure.Figure at 0x7f4d19adb590>"
      ]
     },
     "metadata": {},
     "output_type": "display_data"
    }
   ],
   "source": [
    "# Plot a graph of test set accuracy and training set accuracy against training set percentage on the same plot. \n",
    "plt.plot(percentages, testAccu)\n",
    "plt.plot(percentages, trainingAccu)\n",
    "plt.legend(['testAccu', 'trainingAccu'], loc='upper left')\n",
    "plt.show()"
   ]
  },
  {
   "cell_type": "code",
   "execution_count": 4,
   "metadata": {},
   "outputs": [
    {
     "data": {
      "image/png": "[encoded data removed]",
      "text/plain": [
       "<matplotlib.figure.Figure at 0x7f4d194e6090>"
      ]
     },
     "metadata": {},
     "output_type": "display_data"
    }
   ],
   "source": [
    "# Plot another graph of number of nodes vs training set percentage.\n",
    "plt.plot(percentages,nodeCounts)\n",
    "plt.show()"
   ]
  },
  {
   "cell_type": "markdown",
   "metadata": {},
   "source": [
    "\n",
    "### 2.  Depth\n",
    "Repeat the same analysis for the static-depth case (depth). (7 points)\n",
    "Again, consider values of training set percentage from {2%, 10%, 20%, 30%, 40%,\n",
    "50%, 60%}. The validation set percentage will remain 40% for all the cases.\n",
    "Consider values of maximum depth from {1, 4, 7, ..., 34} and pick the best value using the validation set accuracy. The accuracies you report will be the ones for this value of maximum depth. So, for example, if the best value of maximum depth for training set 10% is 4, you will report accuracies for 10% using 4; if for 20% it is 16, you will report accuracies for 20% using 16.\n",
    "Plot a graph of test set accuracy and training set accuracy against training set percentage on the same plot. Plot another graph of number of nodes vs training set percentage.\n",
    "Finally, plot the optimal choice of depth against the training set percentage."
   ]
  },
  {
   "cell_type": "code",
   "execution_count": 5,
   "metadata": {},
   "outputs": [
    {
     "name": "stdout",
     "output_type": "stream",
     "text": [
      "[1, 4, 7, 10, 13, 16, 19, 22, 25, 28, 31, 34]\n",
      "Training set accuracy: 0.525\n",
      "Validation set accuracy: 0.49325\n",
      "Test set accuracy: 0.5016\n",
      "Training set accuracy: 0.59\n",
      "Validation set accuracy: 0.57575\n",
      "Test set accuracy: 0.5749\n",
      "Training set accuracy: 0.735\n",
      "Validation set accuracy: 0.674\n",
      "Test set accuracy: 0.6904\n",
      "Training set accuracy: 0.9\n",
      "Validation set accuracy: 0.7385\n",
      "Test set accuracy: 0.7534\n",
      "Training set accuracy: 0.87\n",
      "Validation set accuracy: 0.742\n",
      "Test set accuracy: 0.7516\n",
      "Training set accuracy: 0.925\n",
      "Validation set accuracy: 0.74025\n",
      "Test set accuracy: 0.7503\n",
      "Training set accuracy: 0.945\n",
      "Validation set accuracy: 0.74825\n",
      "Test set accuracy: 0.7561\n",
      "Training set accuracy: 0.955\n",
      "Validation set accuracy: 0.74475\n",
      "Test set accuracy: 0.7582\n",
      "Training set accuracy: 0.935\n",
      "Validation set accuracy: 0.74375\n",
      "Test set accuracy: 0.7588\n",
      "Training set accuracy: 0.955\n",
      "Validation set accuracy: 0.747\n",
      "Test set accuracy: 0.7549\n",
      "Training set accuracy: 0.94\n",
      "Validation set accuracy: 0.74825\n",
      "Test set accuracy: 0.7588\n",
      "Training set accuracy: 0.94\n",
      "Validation set accuracy: 0.74525\n",
      "Test set accuracy: 0.7583\n",
      "Training set accuracy: 0.524\n",
      "Validation set accuracy: 0.51925\n",
      "Test set accuracy: 0.4935\n",
      "Training set accuracy: 0.513\n",
      "Validation set accuracy: 0.5045\n",
      "Test set accuracy: 0.5051\n",
      "Training set accuracy: 0.589\n",
      "Validation set accuracy: 0.5805\n",
      "Test set accuracy: 0.5673\n",
      "Training set accuracy: 0.675\n",
      "Validation set accuracy: 0.63525\n",
      "Test set accuracy: 0.6271\n",
      "Training set accuracy: 0.801\n",
      "Validation set accuracy: 0.71725\n",
      "Test set accuracy: 0.7206\n",
      "Training set accuracy: 0.862\n",
      "Validation set accuracy: 0.7425\n",
      "Test set accuracy: 0.7438\n",
      "Training set accuracy: 0.888\n",
      "Validation set accuracy: 0.75225\n",
      "Test set accuracy: 0.7499\n",
      "Training set accuracy: 0.893\n",
      "Validation set accuracy: 0.752\n",
      "Test set accuracy: 0.7578\n",
      "Training set accuracy: 0.886\n",
      "Validation set accuracy: 0.757\n",
      "Test set accuracy: 0.7564\n",
      "Training set accuracy: 0.885\n",
      "Validation set accuracy: 0.7555\n",
      "Test set accuracy: 0.7581\n",
      "Training set accuracy: 0.894\n",
      "Validation set accuracy: 0.754\n",
      "Test set accuracy: 0.7563\n",
      "Training set accuracy: 0.893\n",
      "Validation set accuracy: 0.76\n",
      "Test set accuracy: 0.7547\n",
      "Training set accuracy: 0.5005\n",
      "Validation set accuracy: 0.4925\n",
      "Test set accuracy: 0.5068\n",
      "Training set accuracy: 0.4935\n",
      "Validation set accuracy: 0.5205\n",
      "Test set accuracy: 0.5103\n",
      "Training set accuracy: 0.5625\n",
      "Validation set accuracy: 0.57025\n",
      "Test set accuracy: 0.5626\n",
      "Training set accuracy: 0.7395\n",
      "Validation set accuracy: 0.68875\n",
      "Test set accuracy: 0.6697\n",
      "Training set accuracy: 0.749\n",
      "Validation set accuracy: 0.70125\n",
      "Test set accuracy: 0.6931\n",
      "Training set accuracy: 0.777\n",
      "Validation set accuracy: 0.7035\n",
      "Test set accuracy: 0.7033\n",
      "Training set accuracy: 0.8075\n",
      "Validation set accuracy: 0.733\n",
      "Test set accuracy: 0.7377\n",
      "Training set accuracy: 0.8235\n",
      "Validation set accuracy: 0.755\n",
      "Test set accuracy: 0.754\n",
      "Training set accuracy: 0.86\n",
      "Validation set accuracy: 0.76225\n",
      "Test set accuracy: 0.7717\n",
      "Training set accuracy: 0.8635\n",
      "Validation set accuracy: 0.76325\n",
      "Test set accuracy: 0.7671\n",
      "Training set accuracy: 0.8535\n",
      "Validation set accuracy: 0.767\n",
      "Test set accuracy: 0.765\n",
      "Training set accuracy: 0.859\n",
      "Validation set accuracy: 0.761\n",
      "Test set accuracy: 0.7637\n",
      "Training set accuracy: 0.494333333333\n",
      "Validation set accuracy: 0.494\n",
      "Test set accuracy: 0.4947\n",
      "Training set accuracy: 0.516333333333\n",
      "Validation set accuracy: 0.494\n",
      "Test set accuracy: 0.5003\n",
      "Training set accuracy: 0.539666666667\n",
      "Validation set accuracy: 0.513\n",
      "Test set accuracy: 0.5132\n",
      "Training set accuracy: 0.593333333333\n",
      "Validation set accuracy: 0.5495\n",
      "Test set accuracy: 0.5454\n",
      "Training set accuracy: 0.737666666667\n",
      "Validation set accuracy: 0.70075\n",
      "Test set accuracy: 0.7019\n",
      "Training set accuracy: 0.777666666667\n",
      "Validation set accuracy: 0.72025\n",
      "Test set accuracy: 0.7216\n",
      "Training set accuracy: 0.798333333333\n",
      "Validation set accuracy: 0.7185\n",
      "Test set accuracy: 0.7308\n",
      "Training set accuracy: 0.818666666667\n",
      "Validation set accuracy: 0.73175\n",
      "Test set accuracy: 0.7379\n",
      "Training set accuracy: 0.827333333333\n",
      "Validation set accuracy: 0.7285\n",
      "Test set accuracy: 0.7468\n",
      "Training set accuracy: 0.826\n",
      "Validation set accuracy: 0.73275\n",
      "Test set accuracy: 0.7389\n",
      "Training set accuracy: 0.832666666667\n",
      "Validation set accuracy: 0.737\n",
      "Test set accuracy: 0.7464\n",
      "Training set accuracy: 0.828666666667\n",
      "Validation set accuracy: 0.734\n",
      "Test set accuracy: 0.7472\n",
      "Training set accuracy: 0.48075\n",
      "Validation set accuracy: 0.50675\n",
      "Test set accuracy: 0.4983\n",
      "Training set accuracy: 0.489\n",
      "Validation set accuracy: 0.50575\n",
      "Test set accuracy: 0.5035\n",
      "Training set accuracy: 0.5825\n",
      "Validation set accuracy: 0.58475\n",
      "Test set accuracy: 0.5915\n",
      "Training set accuracy: 0.66325\n",
      "Validation set accuracy: 0.648\n",
      "Test set accuracy: 0.6357\n",
      "Training set accuracy: 0.70675\n",
      "Validation set accuracy: 0.68025\n",
      "Test set accuracy: 0.684\n",
      "Training set accuracy: 0.75575\n",
      "Validation set accuracy: 0.69925\n",
      "Test set accuracy: 0.7088\n",
      "Training set accuracy: 0.7875\n",
      "Validation set accuracy: 0.71825\n",
      "Test set accuracy: 0.725\n",
      "Training set accuracy: 0.813\n",
      "Validation set accuracy: 0.736\n",
      "Test set accuracy: 0.7397\n",
      "Training set accuracy: 0.82825\n",
      "Validation set accuracy: 0.75225\n",
      "Test set accuracy: 0.758\n",
      "Training set accuracy: 0.83075\n",
      "Validation set accuracy: 0.751\n",
      "Test set accuracy: 0.7574\n",
      "Training set accuracy: 0.832\n",
      "Validation set accuracy: 0.754\n",
      "Test set accuracy: 0.7566\n",
      "Training set accuracy: 0.84\n",
      "Validation set accuracy: 0.75475\n",
      "Test set accuracy: 0.7572\n",
      "Training set accuracy: 0.503\n",
      "Validation set accuracy: 0.49575\n",
      "Test set accuracy: 0.5003\n",
      "Training set accuracy: 0.4986\n",
      "Validation set accuracy: 0.4955\n",
      "Test set accuracy: 0.4949\n",
      "Training set accuracy: 0.599\n",
      "Validation set accuracy: 0.5975\n",
      "Test set accuracy: 0.5863\n",
      "Training set accuracy: 0.6508\n",
      "Validation set accuracy: 0.6325\n",
      "Test set accuracy: 0.6314\n",
      "Training set accuracy: 0.698\n",
      "Validation set accuracy: 0.6665\n",
      "Test set accuracy: 0.6711\n",
      "Training set accuracy: 0.7342\n",
      "Validation set accuracy: 0.69125\n",
      "Test set accuracy: 0.6866\n",
      "Training set accuracy: 0.776\n",
      "Validation set accuracy: 0.72375\n",
      "Test set accuracy: 0.7161\n",
      "Training set accuracy: 0.8036\n",
      "Validation set accuracy: 0.73025\n",
      "Test set accuracy: 0.7267\n",
      "Training set accuracy: 0.819\n",
      "Validation set accuracy: 0.74275\n",
      "Test set accuracy: 0.743\n",
      "Training set accuracy: 0.8182\n",
      "Validation set accuracy: 0.7395\n",
      "Test set accuracy: 0.7469\n",
      "Training set accuracy: 0.8302\n",
      "Validation set accuracy: 0.75075\n",
      "Test set accuracy: 0.7453\n",
      "Training set accuracy: 0.8282\n",
      "Validation set accuracy: 0.73875\n",
      "Test set accuracy: 0.7426\n",
      "Training set accuracy: 0.492333333333\n",
      "Validation set accuracy: 0.50075\n",
      "Test set accuracy: 0.4914\n",
      "Training set accuracy: 0.504333333333\n",
      "Validation set accuracy: 0.5015\n",
      "Test set accuracy: 0.4967\n",
      "Training set accuracy: 0.517\n",
      "Validation set accuracy: 0.51075\n",
      "Test set accuracy: 0.5085\n",
      "Training set accuracy: 0.592166666667\n",
      "Validation set accuracy: 0.56325\n",
      "Test set accuracy: 0.5781\n",
      "Training set accuracy: 0.676666666667\n",
      "Validation set accuracy: 0.62425\n",
      "Test set accuracy: 0.6415\n",
      "Training set accuracy: 0.748\n",
      "Validation set accuracy: 0.696\n",
      "Test set accuracy: 0.6922\n",
      "Training set accuracy: 0.776666666667\n",
      "Validation set accuracy: 0.71275\n",
      "Test set accuracy: 0.7146\n",
      "Training set accuracy: 0.803333333333\n",
      "Validation set accuracy: 0.73\n",
      "Test set accuracy: 0.7359\n",
      "Training set accuracy: 0.812\n",
      "Validation set accuracy: 0.73875\n",
      "Test set accuracy: 0.7431\n",
      "Training set accuracy: 0.819\n",
      "Validation set accuracy: 0.7415\n",
      "Test set accuracy: 0.7414\n",
      "Training set accuracy: 0.824833333333\n",
      "Validation set accuracy: 0.7475\n",
      "Test set accuracy: 0.7489\n",
      "Training set accuracy: 0.830833333333\n",
      "Validation set accuracy: 0.74475\n",
      "Test set accuracy: 0.7471\n"
     ]
    }
   ],
   "source": [
    "percentages = [2, 10, 20, 30, 40, 50, 60]\n",
    "depths = []\n",
    "i = 1\n",
    "while i <= 34:\n",
    "    depths.append(i)\n",
    "    i += 3\n",
    "print depths\n",
    "valid = 40\n",
    "testAccu = []\n",
    "trainingAccu = []\n",
    "nodeCounts = []\n",
    "depthChoice = []\n",
    "for p in percentages:\n",
    "    tempValidAccu = []\n",
    "    tempTrainingAccu = []\n",
    "    tempTestAccu = []\n",
    "    tempNodeCounts = []\n",
    "    for d in depths:\n",
    "        decisiontree.depthHelper('adult.data','adult.test', p, 40, d)\n",
    "        tempTrainingAccu.append(decisiontree.train_accu)\n",
    "        tempTestAccu.append(decisiontree.test_accu)\n",
    "        tempValidAccu.append(decisiontree.valid_accu)\n",
    "        tempNodeCounts.append(decisiontree.nodeCount)\n",
    "    maxIdx = tempValidAccu.index(max(tempValidAccu))\n",
    "    trainingAccu.append(tempTrainingAccu[maxIdx])\n",
    "    testAccu.append(tempTestAccu[maxIdx])\n",
    "    nodeCounts.append(tempNodeCounts[maxIdx])\n",
    "    depthChoice.append(depths[maxIdx])\n"
   ]
  },
  {
   "cell_type": "code",
   "execution_count": 6,
   "metadata": {},
   "outputs": [
    {
     "data": {
      "image/png": "[encoded data removed]",
      "text/plain": [
       "<matplotlib.figure.Figure at 0x7f4d19aa61d0>"
      ]
     },
     "metadata": {},
     "output_type": "display_data"
    }
   ],
   "source": [
    "# Plot a graph of test set accuracy and training set accuracy against training set percentage on the same plot. \n",
    "plt.plot(percentages, testAccu)\n",
    "plt.plot(percentages, trainingAccu)\n",
    "plt.legend(['testAccu', 'trainingAccu'], loc='upper left')\n",
    "plt.show()"
   ]
  },
  {
   "cell_type": "code",
   "execution_count": 7,
   "metadata": {},
   "outputs": [
    {
     "data": {
      "image/png": "[encoded data removed]",
      "text/plain": [
       "<matplotlib.figure.Figure at 0x7f4d1922b650>"
      ]
     },
     "metadata": {},
     "output_type": "display_data"
    }
   ],
   "source": [
    "# Plot another graph of number of nodes vs training set percentage.\n",
    "plt.plot(percentages,nodeCounts)\n",
    "plt.show()"
   ]
  },
  {
   "cell_type": "code",
   "execution_count": 8,
   "metadata": {},
   "outputs": [
    {
     "data": {
      "image/png": "[encoded data removed]",
      "text/plain": [
       "<matplotlib.figure.Figure at 0x7f4d19a5a6d0>"
      ]
     },
     "metadata": {},
     "output_type": "display_data"
    }
   ],
   "source": [
    "# Finally, plot the optimal choice of depth against the training set percentage.\n",
    "plt.plot(percentages,depthChoice)\n",
    "plt.show()"
   ]
  },
  {
   "cell_type": "markdown",
   "metadata": {},
   "source": [
    "### 3. Prune\n",
    "Repeat the above analysis for the pruning case (prune). (7 points)\n",
    "Again, consider values of training set percentage from {2%, 10%, 20%, 30%, 40%, 50%, 60%}. The validation set percentage will remain 40% for all the cases. You will use the validation set when deciding to prune.\n",
    "Plot a graph of test set accuracy and training set accuracy against training set percentage on the same plot. Plot another graph of number of nodes vs training set percentage."
   ]
  },
  {
   "cell_type": "code",
   "execution_count": 2,
   "metadata": {},
   "outputs": [
    {
     "name": "stdout",
     "output_type": "stream",
     "text": [
      "Training set accuracy: 0.675\n",
      "Test set accuracy: 0.5831\n",
      "Training set accuracy: 0.707\n",
      "Test set accuracy: 0.6486\n",
      "Training set accuracy: 0.7365\n",
      "Test set accuracy: 0.6745\n",
      "Training set accuracy: 0.632\n",
      "Test set accuracy: 0.5544\n",
      "Training set accuracy: 0.66075\n",
      "Test set accuracy: 0.6185\n",
      "Training set accuracy: 0.6528\n",
      "Test set accuracy: 0.6186\n",
      "Training set accuracy: 0.604666666667\n",
      "Test set accuracy: 0.5642\n"
     ]
    }
   ],
   "source": [
    "percentages = [2, 10, 20, 30, 40, 50, 60]\n",
    "valid = 40\n",
    "testAccu = []\n",
    "trainingAccu = []\n",
    "nodeCounts = []\n",
    "\n",
    "for p in percentages:\n",
    "    decisiontree.pruneHelper('adult.data','adult.test', p, 40)\n",
    "    nodeCounts.append(decisiontree.nodeCount)\n",
    "    testAccu.append(decisiontree.test_accu)\n",
    "    trainingAccu.append(decisiontree.train_accu)"
   ]
  },
  {
   "cell_type": "code",
   "execution_count": 3,
   "metadata": {},
   "outputs": [
    {
     "data": {
      "image/png": "[encoded data removed]",
      "text/plain": [
       "<matplotlib.figure.Figure at 0x7f3b1c9dfc90>"
      ]
     },
     "metadata": {},
     "output_type": "display_data"
    }
   ],
   "source": [
    "# Plot a graph of test set accuracy and training set accuracy against training set percentage on the same plot. \n",
    "plt.plot(percentages, testAccu)\n",
    "plt.plot(percentages, trainingAccu)\n",
    "plt.legend(['testAccu', 'trainingAccu'], loc='upper left')\n",
    "plt.show()"
   ]
  },
  {
   "cell_type": "code",
   "execution_count": 4,
   "metadata": {},
   "outputs": [
    {
     "data": {
      "image/png": "[encoded data removed]",
      "text/plain": [
       "<matplotlib.figure.Figure at 0x7f3b1c76b290>"
      ]
     },
     "metadata": {},
     "output_type": "display_data"
    }
   ],
   "source": [
    "# Plot another graph of number of nodes vs training set percentage.\n",
    "plt.plot(percentages,nodeCounts)\n",
    "plt.show()"
   ]
  },
  {
   "cell_type": "markdown",
   "metadata": {},
   "source": [
    "### 4.\n",
    "Why don’t we prune directly on the test set? Why do we use a separate validation set? (3 points)t\n",
    "\n",
    "First of all, using testing data for pruning will 'contaminate' the pureness of the purpose of the testing data set. For example, the model will tends to perform well on testing data by adapting to perform well on it without generalizing. So, we need a seperate validation data set for us to test the performance along the pruning process while we still have untouched testing data for the final round benchmarking."
   ]
  },
  {
   "cell_type": "markdown",
   "metadata": {
    "collapsed": true
   },
   "source": [
    "### 5.\n",
    "How would you convert your decision tree (in the depth and prune cases) from a classification model to a ranking model? (4 points)\n",
    "That is, how would you output a ranking over the possible class labels instead of a single class label?"
   ]
  },
  {
   "cell_type": "markdown",
   "metadata": {},
   "source": [
    "So, this is the question about how do we convert the absolute classification tasks like either true or false to the task that identify the probobilities for different labels."
   ]
  },
  {
   "cell_type": "markdown",
   "metadata": {},
   "source": [
    "Actually, in my implementation of this decision tree classification algorithm, it could easily adapt to the feature like ranking over the possible class labels instead of single class label because of some of the 'uncertainty' inside of the leaf node of the decision tree. For example, for some leaf nodes, it is not purely classifies as '>=50' or '<50', but a misure of both of the instances like 9/10 chance it's gonna be '>=50', and 1/10 gonna be '<50'. So in the single class label version, I just choose the highest probable answers in the leaf node and return to the decision. So, in order to make the answer lists of the ranking of possible results, we could just make the output not as a list of possible result answers instead of single highest probable result."
   ]
  },
  {
   "cell_type": "code",
   "execution_count": null,
   "metadata": {},
   "outputs": [],
   "source": []
  }
 ],
 "metadata": {
  "kernelspec": {
   "display_name": "Python 2",
   "language": "python",
   "name": "python2"
  },
  "language_info": {
   "codemirror_mode": {
    "name": "ipython",
    "version": 2
   },
   "file_extension": ".py",
   "mimetype": "text/x-python",
   "name": "python",
   "nbconvert_exporter": "python",
   "pygments_lexer": "ipython2",
   "version": "2.7.14"
  }
 },
 "nbformat": 4,
 "nbformat_minor": 1
}
